{
 "cells": [
  {
   "cell_type": "code",
   "execution_count": 158,
   "metadata": {
    "collapsed": true
   },
   "outputs": [],
   "source": [
    "import numpy as np\n",
    "import pickle\n",
    "import matplotlib.pyplot as plt\n",
    "import os\n",
    "import csv\n",
    "%matplotlib inline"
   ]
  },
  {
   "cell_type": "code",
   "execution_count": 44,
   "metadata": {
    "collapsed": false
   },
   "outputs": [],
   "source": [
    "#loading data\n",
    "data_dicts = pickle.load(open('pe_data_dicts', 'r'))"
   ]
  },
  {
   "cell_type": "code",
   "execution_count": 144,
   "metadata": {
    "collapsed": false
   },
   "outputs": [],
   "source": [
    "all_hists = {}\n",
    "#plotting and returning histogram of target states per grasp\n",
    "def plot_save_hist(data, nbins=10, drange=None, show=False, save_file = None, xlabel=None, ylabel=None, title=None):\n",
    "    if title is None:\n",
    "        raise Exception(\"Histogram must have a title!\")\n",
    "    all_hists[title] = data\n",
    "    \n",
    "    plt.clf()\n",
    "    n, bins, patches = plt.hist(data, bins=nbins, range=drange, alpha=0.75)\n",
    "    \n",
    "    if xlabel:\n",
    "        plt.xlabel(xlabel)\n",
    "    if ylabel:\n",
    "        plt.ylabel(ylabel)\n",
    "    if title:\n",
    "        plt.title(title)\n",
    "    \n",
    "    if save_file is not None:\n",
    "        plt.savefig(save_file)\n",
    "    if show:\n",
    "        plt.show()"
   ]
  },
  {
   "cell_type": "code",
   "execution_count": 48,
   "metadata": {
    "collapsed": true
   },
   "outputs": [],
   "source": [
    "def ensure_dir_exists(directory):\n",
    "    if not os.path.exists(directory):\n",
    "        os.makedirs(directory)"
   ]
  },
  {
   "cell_type": "code",
   "execution_count": 52,
   "metadata": {
    "collapsed": false
   },
   "outputs": [],
   "source": [
    "#plotting and saving distributions of target states per object per grasp\n",
    "def gen_hist_target_states(obj_name, grasps, desired_states, root_dir):\n",
    "    for grasp_id in grasps:\n",
    "        for state in desired_states:\n",
    "            data = grasps[grasp_id]['target_states'][state]\n",
    "            \n",
    "            title = 'Target_State_Obj_{0}_Grasp_{1}_State_{2}'.format(obj_name, grasp_id, state)\n",
    "            dest_dir = os.path.join(root_dir, obj_name, str(grasp_id))\n",
    "            fig_file = os.path.join(dest_dir, title+'.png')\n",
    "\n",
    "            ensure_dir_exists(dest_dir)\n",
    "            plot_save_hist(data, 5, save_file=fig_file, xlabel=state, title=title)"
   ]
  },
  {
   "cell_type": "code",
   "execution_count": 53,
   "metadata": {
    "collapsed": false
   },
   "outputs": [
    {
     "data": {
      "image/png": "[encoded data removed]",
      "text/plain": [
       "<matplotlib.figure.Figure at 0x3d4da90>"
      ]
     },
     "metadata": {},
     "output_type": "display_data"
    }
   ],
   "source": [
    "desired_target_states = ['arm_elev', 'arm_rot', 'arm_ext']\n",
    "#generating all target states graphs:\n",
    "for obj_name in data_dicts:\n",
    "    gen_hist_target_states(obj_name, data_dicts[obj_name]['grasps'], desired_target_states, 'graphs')"
   ]
  },
  {
   "cell_type": "code",
   "execution_count": 145,
   "metadata": {
    "collapsed": false
   },
   "outputs": [],
   "source": [
    "#plotting and saving diffs between target and actual states for all trials\n",
    "def gen_hist_diff_states(data, desired_states, root_dir, params):\n",
    "    diffs = {state:[] for state in desired_states}\n",
    "    \n",
    "    for obj_name in data:\n",
    "        for grasp_id, grasp in data[obj_name]['grasps'].items():\n",
    "            for state in desired_states:\n",
    "                target_vals = grasp['target_states'][state]\n",
    "                actual_vals = grasp['actual_states'][state]\n",
    "                diff = [actual_vals[i] - target_vals[i] for i in range(len(actual_vals))]\n",
    "                diffs[state].extend(diff)\n",
    "\n",
    "    for state, diff in diffs.items():\n",
    "        title = 'Diff_of_Actual_and_Target_States_{0}'.format(state)\n",
    "        dest_dir = os.path.join(root_dir, 'diffs')\n",
    "        fig_file = os.path.join(dest_dir, title+'.png')\n",
    "\n",
    "        ensure_dir_exists(dest_dir)\n",
    "        plot_save_hist(diff, params[state][0], params[state][1], save_file=fig_file, xlabel=state, title=title)"
   ]
  },
  {
   "cell_type": "code",
   "execution_count": 146,
   "metadata": {
    "collapsed": false
   },
   "outputs": [
    {
     "data": {
      "image/png": "[encoded data removed]",
      "text/plain": [
       "<matplotlib.figure.Figure at 0xbe4f278>"
      ]
     },
     "metadata": {},
     "output_type": "display_data"
    }
   ],
   "source": [
    "params = {\n",
    "    'arm_elev': [40, [-0.002, 0.002]],\n",
    "    'arm_rot': [20, None],\n",
    "    'arm_ext': [40, [-0.005, 0.005]],\n",
    "    'gripper_rot': [40, [-0.05, 0.05]],\n",
    "    'gripper_grip': [30, None]\n",
    "}\n",
    "desired_diff_states = ['arm_elev', 'arm_rot', 'arm_ext', 'gripper_rot', 'gripper_grip']\n",
    "gen_hist_diff_states(data_dicts, desired_diff_states, 'graphs', params)"
   ]
  },
  {
   "cell_type": "code",
   "execution_count": 147,
   "metadata": {
    "collapsed": false
   },
   "outputs": [],
   "source": [
    "#plotting and saving hist of time took for each object\n",
    "def gen_hist_dur(data, root_dir):\n",
    "    \n",
    "    for obj_name in data:\n",
    "        durs = []\n",
    "        for grasp_id, grasp in data[obj_name]['grasps'].items():\n",
    "            durs.extend(grasp['grasp_output']['duration'])            \n",
    "        \n",
    "        title = 'Duration_of_Trials_{0}'.format(obj_name)\n",
    "        dest_dir = os.path.join(root_dir, 'durs')\n",
    "        fig_file = os.path.join(dest_dir, title+'.png')\n",
    "\n",
    "        ensure_dir_exists(dest_dir)\n",
    "        plot_save_hist(durs, 20, save_file=fig_file, xlabel='seconds', title=title)"
   ]
  },
  {
   "cell_type": "code",
   "execution_count": 148,
   "metadata": {
    "collapsed": false
   },
   "outputs": [
    {
     "data": {
      "image/png": "[encoded data removed]",
      "text/plain": [
       "<matplotlib.figure.Figure at 0xac577f0>"
      ]
     },
     "metadata": {},
     "output_type": "display_data"
    }
   ],
   "source": [
    "gen_hist_dur(data_dicts, 'graphs')"
   ]
  },
  {
   "cell_type": "code",
   "execution_count": 149,
   "metadata": {
    "collapsed": false
   },
   "outputs": [],
   "source": [
    "#exploring correlation between grasp width differences and success\n",
    "all_succeses = []\n",
    "all_grasp_width_diffs = []\n",
    "for obj_name in data_dicts:\n",
    "    for grasp_id, grasp in data_dicts[obj_name]['grasps'].items():\n",
    "        successes = grasp['grasp_output']['success']\n",
    "        actuals = grasp['actual_states']['gripper_grip']\n",
    "        targets = grasp['target_states']['gripper_grip']\n",
    "        diffs = [actuals[i] - targets[i] + 0.068 for i in range(len(actuals))]\n",
    "        \n",
    "        all_succeses.extend(successes)\n",
    "        all_grasp_width_diffs.extend(diffs)\n",
    "all_succeses = np.array(all_succeses)\n",
    "all_grasp_width_diffs = np.array(all_grasp_width_diffs)"
   ]
  },
  {
   "cell_type": "code",
   "execution_count": 150,
   "metadata": {
    "collapsed": false
   },
   "outputs": [],
   "source": [
    "width_diffs_failures = np.take(all_grasp_width_diffs, np.argwhere(all_succeses == 0))\n",
    "width_diffs_successes = np.take(all_grasp_width_diffs, np.argwhere(all_succeses == 1))"
   ]
  },
  {
   "cell_type": "code",
   "execution_count": 151,
   "metadata": {
    "collapsed": false
   },
   "outputs": [
    {
     "data": {
      "image/png": "[encoded data removed]",
      "text/plain": [
       "<matplotlib.figure.Figure at 0xaa3ab00>"
      ]
     },
     "metadata": {},
     "output_type": "display_data"
    }
   ],
   "source": [
    "plot_save_hist(width_diffs_failures, 20, [0, 0.07], show=True, \n",
    "               title='Distribution of Gripper Widths for Failures', xlabel='final gripper width (m)', ylabel='count')"
   ]
  },
  {
   "cell_type": "code",
   "execution_count": 152,
   "metadata": {
    "collapsed": false
   },
   "outputs": [
    {
     "data": {
      "image/png": "[encoded data removed]",
      "text/plain": [
       "<matplotlib.figure.Figure at 0xae42128>"
      ]
     },
     "metadata": {},
     "output_type": "display_data"
    }
   ],
   "source": [
    "plot_save_hist(width_diffs_successes, 20, [0, 0.07], show=True, \n",
    "               title='Distribution of Gripper Widths for Successes', xlabel='final gripper width (m)', ylabel='count')"
   ]
  },
  {
   "cell_type": "code",
   "execution_count": 155,
   "metadata": {
    "collapsed": true
   },
   "outputs": [],
   "source": [
    "#saving all corresponding stats of interests for all hists\n",
    "def gen_stats(name, data, flags):\n",
    "    ops = (np.mean, np.median, np.std)\n",
    "    result = [name]\n",
    "    \n",
    "    for flag, val in flags.items():\n",
    "        if not val:\n",
    "            result.extend([np.nan]*len(ops))\n",
    "        else:\n",
    "            if flag == 'abs':\n",
    "                data = np.abs(data)\n",
    "            elif flag == 'square':\n",
    "                data = data**2\n",
    "            result.extend([op(data) for op in ops])\n",
    "    \n",
    "    return result"
   ]
  },
  {
   "cell_type": "code",
   "execution_count": 166,
   "metadata": {
    "collapsed": false
   },
   "outputs": [],
   "source": [
    "flags = {\n",
    "    'generic':True,\n",
    "    'abs':True,\n",
    "    'square':True\n",
    "}\n",
    "results = []\n",
    "\n",
    "for name, data in all_hists.items():\n",
    "    data = all_hists[name]\n",
    "    if name.startswith('Duration'):\n",
    "        flags['generic']=True\n",
    "        flags['abs']=False\n",
    "        flags['square']=False\n",
    "    elif name.startswith('Diff'):\n",
    "        flags['generic']=True\n",
    "        flags['abs']=True\n",
    "        flags['square']=True\n",
    "    elif name.startswith('Distribution'):\n",
    "        flags['generic']=True\n",
    "        flags['abs']=False\n",
    "        flags['square']=False\n",
    "    \n",
    "    results.append(gen_stats(name, data, flags))"
   ]
  },
  {
   "cell_type": "code",
   "execution_count": 170,
   "metadata": {
    "collapsed": false
   },
   "outputs": [],
   "source": [
    "header = ['name', 'mean', 'median', 'std', 'abs mean', 'abs median', 'abs std', 'sqr mean', 'sqr median', 'sqr std']\n",
    "with open('pe_stats.csv', 'wb') as csvfile:\n",
    "    writer = csv.writer(csvfile)\n",
    "    writer.writerow(header)\n",
    "    for result in results:\n",
    "        writer.writerow(result)"
   ]
  }
 ],
 "metadata": {
  "kernelspec": {
   "display_name": "Python 2",
   "language": "python",
   "name": "python2"
  },
  "language_info": {
   "codemirror_mode": {
    "name": "ipython",
    "version": 2
   },
   "file_extension": ".py",
   "mimetype": "text/x-python",
   "name": "python",
   "nbconvert_exporter": "python",
   "pygments_lexer": "ipython2",
   "version": "2.7.11"
  }
 },
 "nbformat": 4,
 "nbformat_minor": 0
}
