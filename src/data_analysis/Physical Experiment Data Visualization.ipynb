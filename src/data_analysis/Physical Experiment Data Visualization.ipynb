{
 "cells": [
  {
   "cell_type": "code",
   "execution_count": 1,
   "metadata": {
    "collapsed": true
   },
   "outputs": [],
   "source": [
    "import numpy as np\n",
    "import pickle\n",
    "import matplotlib.pyplot as plt\n",
    "import os\n",
    "import IPython\n",
    "%matplotlib inline"
   ]
  },
  {
   "cell_type": "code",
   "execution_count": 2,
   "metadata": {
    "collapsed": false
   },
   "outputs": [],
   "source": [
    "#loading data\n",
    "data_dicts = pickle.load(open('pe_data_dicts', 'r'))"
   ]
  },
  {
   "cell_type": "code",
   "execution_count": 3,
   "metadata": {
    "collapsed": false
   },
   "outputs": [],
   "source": [
    "#plotting and returning histogram of target states per grasp\n",
    "def plot_save_hist(data, nbins=10, show=False, save_file = None, xlabel=None, ylabel=None, title=None):\n",
    "    plt.clf()\n",
    "    n, bins, patches = plt.hist(data, bins=nbins, alpha=0.75)\n",
    "\n",
    "    if xlabel:\n",
    "        plt.xlabel(xlabel)\n",
    "    if ylabel:\n",
    "        plt.ylabel(ylabel)\n",
    "    if title:\n",
    "        plt.title(title)\n",
    "    \n",
    "    if save_file is not None:\n",
    "        plt.savefig(save_file)\n",
    "    if show:\n",
    "        plt.show()"
   ]
  },
  {
   "cell_type": "code",
   "execution_count": 4,
   "metadata": {
    "collapsed": true
   },
   "outputs": [],
   "source": [
    "def ensure_dir_exists(directory):\n",
    "    if not os.path.exists(directory):\n",
    "        os.makedirs(directory)"
   ]
  },
  {
   "cell_type": "code",
   "execution_count": 5,
   "metadata": {
    "collapsed": false
   },
   "outputs": [],
   "source": [
    "#plotting and saving distributions of target states per object per grasp\n",
    "def gen_hist_target_states(obj_name, grasps, desired_states, root_dir):\n",
    "    for grasp_id in grasps:\n",
    "        for state in desired_states:\n",
    "            data = grasps[grasp_id]['target_states'][state]\n",
    "            \n",
    "            title = 'Target_State_Obj_{0}_Grasp_{1}_State_{2}'.format(obj_name, grasp_id, state)\n",
    "            dest_dir = os.path.join(root_dir, obj_name, str(grasp_id))\n",
    "            fig_file = os.path.join(dest_dir, title+'.png')\n",
    "\n",
    "            ensure_dir_exists(dest_dir)\n",
    "            plot_save_hist(data, 5, save_file=fig_file, xlabel=state, title=title)"
   ]
  },
  {
   "cell_type": "code",
   "execution_count": 16,
   "metadata": {
    "collapsed": false
   },
   "outputs": [
    {
     "data": {
      "image/png": "[encoded data removed]",
      "text/plain": [
       "<matplotlib.figure.Figure at 0x9620780>"
      ]
     },
     "metadata": {},
     "output_type": "display_data"
    }
   ],
   "source": [
    "desired_target_states = ['arm_elev', 'arm_rot', 'arm_ext']\n",
    "#generating all target states graphs:\n",
    "for obj_name in data_dicts:\n",
    "    gen_hist_target_states(obj_name, data_dicts[obj_name]['grasps'], desired_target_states, 'graphs')"
   ]
  },
  {
   "cell_type": "code",
   "execution_count": 26,
   "metadata": {
    "collapsed": false
   },
   "outputs": [],
   "source": [
    "def gen_hist_diff_states(data, desired_states, root_dir):\n",
    "    diffs = {state:[] for state in desired_states}\n",
    "    print diffs\n",
    "    for obj_name in data:\n",
    "        for grasp_id, grasp in data[obj_name]['grasps'].items():\n",
    "            for state in desired_states:\n",
    "                target_vals = grasp['target_states'][state]\n",
    "                actual_vals = grasp['actual_states'][state]\n",
    "                diff = [actual_vals[i] - target_vals[i] for i in range(len(actual_vals))]\n",
    "                diffs[state].extend(diff)\n",
    "    \n",
    "    print len(diffs['arm_ext'])\n",
    "    for state, diff in diffs.items():\n",
    "        title = 'Diff_of_Actual_and_Target_States_{0}'.format(state)\n",
    "        dest_dir = os.path.join(root_dir, 'diffs')\n",
    "        fig_file = os.path.join(dest_dir, title+'.png')\n",
    "\n",
    "        ensure_dir_exists(dest_dir)\n",
    "        plot_save_hist(diff, 10, save_file=fig_file, xlabel=state, title=title)"
   ]
  },
  {
   "cell_type": "code",
   "execution_count": 27,
   "metadata": {
    "collapsed": false
   },
   "outputs": [
    {
     "name": "stdout",
     "output_type": "stream",
     "text": [
      "{'gripper_rot': [], 'arm_ext': [], 'arm_rot': [], 'gripper_grip': [], 'arm_elev': []}\n",
      "362\n"
     ]
    },
    {
     "data": {
      "image/png": "[encoded data removed]",
      "text/plain": [
       "<matplotlib.figure.Figure at 0x3c95b70>"
      ]
     },
     "metadata": {},
     "output_type": "display_data"
    }
   ],
   "source": [
    "desired_diff_states = ['arm_elev', 'arm_rot', 'arm_ext', 'gripper_rot', 'gripper_grip']\n",
    "gen_hist_diff_states(data_dicts, desired_diff_states, 'graphs')"
   ]
  },
  {
   "cell_type": "code",
   "execution_count": 7,
   "metadata": {
    "collapsed": false
   },
   "outputs": [
    {
     "name": "stdout",
     "output_type": "stream",
     "text": [
      "7\n"
     ]
    }
   ],
   "source": [
    "print len(data_dicts.keys())"
   ]
  },
  {
   "cell_type": "code",
   "execution_count": 10,
   "metadata": {
    "collapsed": false
   },
   "outputs": [
    {
     "name": "stdout",
     "output_type": "stream",
     "text": [
      "10\n"
     ]
    }
   ],
   "source": [
    "print len(data_dicts['endstop_holder']['grasps'].keys())"
   ]
  },
  {
   "cell_type": "code",
   "execution_count": 16,
   "metadata": {
    "collapsed": false
   },
   "outputs": [
    {
     "name": "stdout",
     "output_type": "stream",
     "text": [
      "10\n"
     ]
    }
   ],
   "source": [
    "print len(data_dicts['endstop_holder']['grasps'][99]['target_states']['arm_ext'])"
   ]
  }
 ],
 "metadata": {
  "kernelspec": {
   "display_name": "Python 2",
   "language": "python",
   "name": "python2"
  },
  "language_info": {
   "codemirror_mode": {
    "name": "ipython",
    "version": 2
   },
   "file_extension": ".py",
   "mimetype": "text/x-python",
   "name": "python",
   "nbconvert_exporter": "python",
   "pygments_lexer": "ipython2",
   "version": "2.7.11"
  }
 },
 "nbformat": 4,
 "nbformat_minor": 0
}
