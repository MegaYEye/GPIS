{
 "cells": [
  {
   "cell_type": "code",
   "execution_count": 1,
   "metadata": {
    "collapsed": true
   },
   "outputs": [],
   "source": [
    "import numpy as np\n",
    "import pickle\n",
    "import matplotlib.pyplot as plt\n",
    "import os\n",
    "import csv\n",
    "%matplotlib inline"
   ]
  },
  {
   "cell_type": "code",
   "execution_count": 2,
   "metadata": {
    "collapsed": false
   },
   "outputs": [],
   "source": [
    "#loading data\n",
    "data_dicts = pickle.load(open('pe_data_dicts', 'r'))"
   ]
  },
  {
   "cell_type": "code",
   "execution_count": 3,
   "metadata": {
    "collapsed": false
   },
   "outputs": [],
   "source": [
    "all_hists = {}\n",
    "#plotting and returning histogram of target states per grasp\n",
    "def plot_save_hist(data, nbins=10, drange=None, show=False, save_file = None, xlabel=None, ylabel=None, title=None):\n",
    "    if title is None:\n",
    "        raise Exception(\"Histogram must have a title!\")\n",
    "    all_hists[title] = data\n",
    "    \n",
    "    plt.clf()\n",
    "    n, bins, patches = plt.hist(data, bins=nbins, range=drange, alpha=0.75)\n",
    "    \n",
    "    if xlabel:\n",
    "        plt.xlabel(xlabel)\n",
    "    if ylabel:\n",
    "        plt.ylabel(ylabel)\n",
    "    if title:\n",
    "        plt.title(title)\n",
    "    \n",
    "    if save_file is not None:\n",
    "        plt.savefig(save_file)\n",
    "    if show:\n",
    "        plt.show()"
   ]
  },
  {
   "cell_type": "code",
   "execution_count": 4,
   "metadata": {
    "collapsed": true
   },
   "outputs": [],
   "source": [
    "def ensure_dir_exists(directory):\n",
    "    if not os.path.exists(directory):\n",
    "        os.makedirs(directory)"
   ]
  },
  {
   "cell_type": "code",
   "execution_count": 5,
   "metadata": {
    "collapsed": false
   },
   "outputs": [],
   "source": [
    "#plotting and saving distributions of target states per object per grasp\n",
    "def gen_hist_target_states(obj_name, grasps, desired_states, root_dir):\n",
    "    for grasp_id in grasps:\n",
    "        for state, unit in desired_states:\n",
    "            data = grasps[grasp_id]['target_states'][state]\n",
    "            \n",
    "            title = 'Target_State_Obj_{0}_Grasp_{1}_State_{2}'.format(obj_name, grasp_id, state)\n",
    "            dest_dir = os.path.join(root_dir, obj_name, str(grasp_id))\n",
    "            fig_file = os.path.join(dest_dir, title+'.png')\n",
    "\n",
    "            ensure_dir_exists(dest_dir)\n",
    "            plot_save_hist(data, 5, save_file=fig_file, xlabel=state+unit, ylabel='count', title=title)"
   ]
  },
  {
   "cell_type": "code",
   "execution_count": 7,
   "metadata": {
    "collapsed": false
   },
   "outputs": [
    {
     "data": {
      "image/png": "[encoded data removed]",
      "text/plain": [
       "<matplotlib.figure.Figure at 0x7cae7b8>"
      ]
     },
     "metadata": {},
     "output_type": "display_data"
    }
   ],
   "source": [
    "desired_target_states = [('arm_elev', ' (m)'), ('arm_rot', ' (rad)'), ('arm_ext', ' (m)')]\n",
    "#generating all target states graphs:\n",
    "for obj_name in data_dicts:\n",
    "    gen_hist_target_states(obj_name, data_dicts[obj_name]['grasps'], desired_target_states, 'graphs')"
   ]
  },
  {
   "cell_type": "code",
   "execution_count": 16,
   "metadata": {
    "collapsed": false
   },
   "outputs": [],
   "source": [
    "#plotting and saving diffs between target and actual states for all trials\n",
    "def gen_hist_diff_states(data, desired_states, root_dir, params):\n",
    "    diffs = {state:[] for state, _ in desired_states}\n",
    "    \n",
    "    for obj_name in data:\n",
    "        for grasp_id, grasp in data[obj_name]['grasps'].items():\n",
    "            for state, _ in desired_states:\n",
    "                target_vals = grasp['target_states'][state]\n",
    "                actual_vals = grasp['actual_states'][state]\n",
    "                diff = [actual_vals[i] - target_vals[i] for i in range(len(actual_vals))]\n",
    "                diffs[state].extend(diff)\n",
    "\n",
    "    for state, unit in desired_states:\n",
    "        diff = diffs[state]\n",
    "        title = 'Diff_of_Actual_and_Target_States_{0}'.format(state)\n",
    "        dest_dir = os.path.join(root_dir, 'diffs')\n",
    "        fig_file = os.path.join(dest_dir, title+'.png')\n",
    "\n",
    "        ensure_dir_exists(dest_dir)\n",
    "        plot_save_hist(diff, params[state][0], params[state][1], save_file=fig_file, xlabel=state+unit, \n",
    "                       ylabel='count', title=title)"
   ]
  },
  {
   "cell_type": "code",
   "execution_count": 17,
   "metadata": {
    "collapsed": false
   },
   "outputs": [
    {
     "data": {
      "image/png": "[encoded data removed]",
      "text/plain": [
       "<matplotlib.figure.Figure at 0x6aac828>"
      ]
     },
     "metadata": {},
     "output_type": "display_data"
    }
   ],
   "source": [
    "params = {\n",
    "    'arm_elev': [40, [-0.002, 0.002]],\n",
    "    'arm_rot': [20, None],\n",
    "    'arm_ext': [40, [-0.005, 0.005]],\n",
    "    'gripper_rot': [40, [-0.05, 0.05]],\n",
    "    'gripper_grip': [30, None]\n",
    "}\n",
    "desired_diff_states = [('arm_elev', ' (m)'), ('arm_rot', ' (rad)'), ('arm_ext', ' (m)'), \n",
    "                       ('gripper_rot', ' (rad)'), ('gripper_grip', ' (m)')]\n",
    "gen_hist_diff_states(data_dicts, desired_diff_states, 'graphs', params)"
   ]
  },
  {
   "cell_type": "code",
   "execution_count": 18,
   "metadata": {
    "collapsed": false
   },
   "outputs": [],
   "source": [
    "#plotting and saving hist of time took for each object\n",
    "def gen_hist_dur(data, root_dir):\n",
    "    \n",
    "    for obj_name in data:\n",
    "        durs = []\n",
    "        for grasp_id, grasp in data[obj_name]['grasps'].items():\n",
    "            durs.extend(grasp['grasp_output']['duration'])            \n",
    "        \n",
    "        title = 'Duration_of_Trials_{0}'.format(obj_name)\n",
    "        dest_dir = os.path.join(root_dir, 'durs')\n",
    "        fig_file = os.path.join(dest_dir, title+'.png')\n",
    "\n",
    "        ensure_dir_exists(dest_dir)\n",
    "        plot_save_hist(durs, 20, save_file=fig_file, xlabel='seconds', ylabel='count', title=title)"
   ]
  },
  {
   "cell_type": "code",
   "execution_count": 19,
   "metadata": {
    "collapsed": false
   },
   "outputs": [
    {
     "data": {
      "image/png": "[encoded data removed]",
      "text/plain": [
       "<matplotlib.figure.Figure at 0x837f048>"
      ]
     },
     "metadata": {},
     "output_type": "display_data"
    }
   ],
   "source": [
    "gen_hist_dur(data_dicts, 'graphs')"
   ]
  },
  {
   "cell_type": "code",
   "execution_count": 24,
   "metadata": {
    "collapsed": false
   },
   "outputs": [],
   "source": [
    "#exploring correlation between grasp width differences and success\n",
    "def gen_grasp_widths(data, root_dir):\n",
    "    all_succeses = []\n",
    "    all_grasp_width_diffs = []\n",
    "    for obj_name in data:\n",
    "        for grasp_id, grasp in data[obj_name]['grasps'].items():\n",
    "            successes = grasp['grasp_output']['success']\n",
    "            actuals = grasp['actual_states']['gripper_grip']\n",
    "            targets = grasp['target_states']['gripper_grip']\n",
    "            diffs = [actuals[i] - targets[i] + 0.068 for i in range(len(actuals))]\n",
    "\n",
    "            all_succeses.extend(successes)\n",
    "            all_grasp_width_diffs.extend(diffs)\n",
    "    all_succeses = np.array(all_succeses)\n",
    "    all_grasp_width_diffs = np.array(all_grasp_width_diffs)\n",
    "\n",
    "    width_diffs_failures = np.take(all_grasp_width_diffs, np.argwhere(all_succeses == 0))\n",
    "    width_diffs_successes = np.take(all_grasp_width_diffs, np.argwhere(all_succeses == 1))\n",
    "\n",
    "    dest_dir = os.path.join(root_dir, 'gripper_widths')\n",
    "    \n",
    "    ensure_dir_exists(dest_dir)\n",
    "    \n",
    "    failures_title = 'Distribution_of_Gripper_Widths_for_Failures'\n",
    "    fig_file_failures = os.path.join(dest_dir, failures_title+'.png')\n",
    "\n",
    "    successes_title = 'Distribution_of_Gripper_Widths_for_Successes'\n",
    "    fig_file_successes = os.path.join(dest_dir, successes_title+'.png')\n",
    "\n",
    "    plot_save_hist(width_diffs_failures, 20, [0, 0.07], show=True, \n",
    "                   title=failures_title, xlabel='final gripper width (m)', ylabel='count', save_file=fig_file_failures)\n",
    "\n",
    "    plot_save_hist(width_diffs_successes, 20, [0, 0.07], show=True, \n",
    "                   title=successes_title, xlabel='final gripper width (m)', ylabel='count', save_file=fig_file_successes)"
   ]
  },
  {
   "cell_type": "code",
   "execution_count": 25,
   "metadata": {
    "collapsed": false
   },
   "outputs": [
    {
     "data": {
      "image/png": "[encoded data removed]",
      "text/plain": [
       "<matplotlib.figure.Figure at 0x806fc88>"
      ]
     },
     "metadata": {},
     "output_type": "display_data"
    },
    {
     "data": {
      "image/png": "[encoded data removed]",
      "text/plain": [
       "<matplotlib.figure.Figure at 0x7ddd7f0>"
      ]
     },
     "metadata": {},
     "output_type": "display_data"
    }
   ],
   "source": [
    "gen_grasp_widths(data_dicts, 'graphs')"
   ]
  },
  {
   "cell_type": "code",
   "execution_count": null,
   "metadata": {
    "collapsed": true
   },
   "outputs": [],
   "source": [
    "#exploring correlation between all differences and successes\n",
    "def gen_grasp_widths(data, root_dir):\n",
    "    all_succeses = []\n",
    "    all_grasp_width_diffs = []\n",
    "    for obj_name in data:\n",
    "        for grasp_id, grasp in data[obj_name]['grasps'].items():\n",
    "            successes = grasp['grasp_output']['success']\n",
    "            actuals = grasp['actual_states']['gripper_grip']\n",
    "            targets = grasp['target_states']['gripper_grip']\n",
    "            diffs = [actuals[i] - targets[i] + 0.068 for i in range(len(actuals))]\n",
    "\n",
    "            all_succeses.extend(successes)\n",
    "            all_grasp_width_diffs.extend(diffs)\n",
    "    all_succeses = np.array(all_succeses)\n",
    "    all_grasp_width_diffs = np.array(all_grasp_width_diffs)\n",
    "\n",
    "    width_diffs_failures = np.take(all_grasp_width_diffs, np.argwhere(all_succeses == 0))\n",
    "    width_diffs_successes = np.take(all_grasp_width_diffs, np.argwhere(all_succeses == 1))\n",
    "\n",
    "    dest_dir = os.path.join(root_dir, 'gripper_widths')\n",
    "    \n",
    "    ensure_dir_exists(dest_dir)\n",
    "    \n",
    "    failures_title = 'Distribution_of_Gripper_Widths_for_Failures'\n",
    "    fig_file_failures = os.path.join(dest_dir, failures_title+'.png')\n",
    "\n",
    "    successes_title = 'Distribution_of_Gripper_Widths_for_Successes'\n",
    "    fig_file_successes = os.path.join(dest_dir, successes_title+'.png')\n",
    "\n",
    "    plot_save_hist(width_diffs_failures, 20, [0, 0.07], show=True, \n",
    "                   title=failures_title, xlabel='final gripper width (m)', ylabel='count', save_file=fig_file_failures)\n",
    "\n",
    "    plot_save_hist(width_diffs_successes, 20, [0, 0.07], show=True, \n",
    "                   title=successes_title, xlabel='final gripper width (m)', ylabel='count', save_file=fig_file_successes)"
   ]
  },
  {
   "cell_type": "code",
   "execution_count": 26,
   "metadata": {
    "collapsed": true
   },
   "outputs": [],
   "source": [
    "#saving all corresponding stats of interests for all hists\n",
    "def gen_stats(name, data, flags):\n",
    "    ops = (np.mean, np.median, np.std)\n",
    "    result = [name]\n",
    "    \n",
    "    for flag, val in flags.items():\n",
    "        if not val:\n",
    "            result.extend([np.nan]*len(ops))\n",
    "        else:\n",
    "            if flag == 'abs':\n",
    "                data = np.abs(data)\n",
    "            elif flag == 'square':\n",
    "                data = data**2\n",
    "            result.extend([op(data) for op in ops])\n",
    "    \n",
    "    return result"
   ]
  },
  {
   "cell_type": "code",
   "execution_count": 29,
   "metadata": {
    "collapsed": false
   },
   "outputs": [],
   "source": [
    "flags = {\n",
    "    'generic':True,\n",
    "    'abs':True,\n",
    "    'square':True\n",
    "}\n",
    "results = []\n",
    "\n",
    "for name, data in all_hists.items():\n",
    "    if name.startswith('Target_State_Obj_'):\n",
    "        continue\n",
    "    data = all_hists[name]\n",
    "    if name.startswith('Duration'):\n",
    "        flags['generic']=True\n",
    "        flags['abs']=False\n",
    "        flags['square']=False\n",
    "    elif name.startswith('Diff'):\n",
    "        flags['generic']=True\n",
    "        flags['abs']=True\n",
    "        flags['square']=True\n",
    "    elif name.startswith('Distribution'):\n",
    "        flags['generic']=True\n",
    "        flags['abs']=False\n",
    "        flags['square']=False\n",
    "    \n",
    "    results.append(gen_stats(name, data, flags))"
   ]
  },
  {
   "cell_type": "code",
   "execution_count": 30,
   "metadata": {
    "collapsed": false
   },
   "outputs": [],
   "source": [
    "header = ['name', 'mean', 'median', 'std', 'abs mean', 'abs median', 'abs std', 'sqr mean', 'sqr median', 'sqr std']\n",
    "with open('pe_stats.csv', 'wb') as csvfile:\n",
    "    writer = csv.writer(csvfile)\n",
    "    writer.writerow(header)\n",
    "    for result in results:\n",
    "        writer.writerow(result)"
   ]
  }
 ],
 "metadata": {
  "kernelspec": {
   "display_name": "Python 2",
   "language": "python",
   "name": "python2"
  },
  "language_info": {
   "codemirror_mode": {
    "name": "ipython",
    "version": 2
   },
   "file_extension": ".py",
   "mimetype": "text/x-python",
   "name": "python",
   "nbconvert_exporter": "python",
   "pygments_lexer": "ipython2",
   "version": "2.7.11"
  }
 },
 "nbformat": 4,
 "nbformat_minor": 0
}
