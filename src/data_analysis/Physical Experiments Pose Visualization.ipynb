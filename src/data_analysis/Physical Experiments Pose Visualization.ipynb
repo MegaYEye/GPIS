{
 "cells": [
  {
   "cell_type": "code",
   "execution_count": 12,
   "metadata": {
    "collapsed": false
   },
   "outputs": [],
   "source": [
    "import numpy as np\n",
    "import pickle\n",
    "import matplotlib.pyplot as plt\n",
    "import os\n",
    "from mpl_toolkits.mplot3d import Axes3D\n",
    "%matplotlib qt"
   ]
  },
  {
   "cell_type": "code",
   "execution_count": 2,
   "metadata": {
    "collapsed": true
   },
   "outputs": [],
   "source": [
    "#loading data\n",
    "data_dicts = pickle.load(open('pe_data_dicts', 'r'))"
   ]
  },
  {
   "cell_type": "code",
   "execution_count": 42,
   "metadata": {
    "collapsed": false
   },
   "outputs": [],
   "source": [
    "def get_target_actual_pairs(data, desired_states):    \n",
    "    all_pairs = {\n",
    "        'targets':[],\n",
    "        'actuals':[],\n",
    "        'successes':[]\n",
    "    }\n",
    "\n",
    "    for obj_name in data:\n",
    "        for grasp_id, grasp in data[obj_name]['grasps'].items():\n",
    "            n = len(grasp['target_states'][desired_states[0]])\n",
    "            targets = [{} for _ in range(n)]\n",
    "            actuals = [{} for _ in range(n)]\n",
    "            \n",
    "            for state in desired_states:\n",
    "                target_vals = grasp['target_states'][state]\n",
    "                actual_vals = grasp['actual_states'][state]\n",
    "                for i in range(n):\n",
    "                    targets[i][state] = target_vals[i]\n",
    "                    actuals[i][state] = actual_vals[i]\n",
    "            \n",
    "            all_pairs['targets'].extend(targets)\n",
    "            all_pairs['actuals'].extend(actuals)\n",
    "            all_pairs['successes'].extend(grasp['grasp_output']['success'])\n",
    "    \n",
    "    all_pairs['successes'] = np.array(all_pairs['successes'])\n",
    "    return all_pairs"
   ]
  },
  {
   "cell_type": "code",
   "execution_count": 43,
   "metadata": {
    "collapsed": false
   },
   "outputs": [],
   "source": [
    "desired_states = ['arm_ext', 'arm_elev', 'gripper_rot', 'arm_rot']\n",
    "pairs = get_target_actual_pairs(data_dicts, desired_states)"
   ]
  },
  {
   "cell_type": "code",
   "execution_count": 44,
   "metadata": {
    "collapsed": false
   },
   "outputs": [],
   "source": [
    "def forward_kinematics(state):\n",
    "    z = state['arm_elev']\n",
    "    r = state['arm_ext']\n",
    "    t = state['arm_rot']\n",
    "    \n",
    "    x = r*np.cos(t)\n",
    "    y = r*np.sin(t)\n",
    "    \n",
    "    return np.array([x, y, z])"
   ]
  },
  {
   "cell_type": "code",
   "execution_count": 45,
   "metadata": {
    "collapsed": true
   },
   "outputs": [],
   "source": [
    "pairs['targets_pts'] = np.array([forward_kinematics(state) for state in pairs['targets']])\n",
    "pairs['actuals_pts'] = np.array([forward_kinematics(state) for state in pairs['actuals']])"
   ]
  },
  {
   "cell_type": "code",
   "execution_count": 46,
   "metadata": {
    "collapsed": false
   },
   "outputs": [],
   "source": [
    "pairs['relatives'] = np.array([\n",
    "    pairs['actuals_pts'][i] - pairs['targets_pts'][i]\n",
    "    for i in range(len(pairs['actuals_pts']))\n",
    "])"
   ]
  },
  {
   "cell_type": "code",
   "execution_count": 110,
   "metadata": {
    "collapsed": false
   },
   "outputs": [],
   "source": [
    "#diffs scatter\n",
    "pts = pairs['relatives']\n",
    "fig = plt.figure()\n",
    "ax = fig.add_subplot(111, projection='3d')\n",
    "ax.set_xlim([-0.008, 0.008])\n",
    "ax.set_ylim([-0.008, 0.008])\n",
    "ax.set_zlim([-0.002, 0.014])\n",
    "ax.scatter(pts[:,0], pts[:,1], pts[:,2])\n",
    "ax.set_xlabel('X')\n",
    "ax.set_ylabel('Y')\n",
    "ax.set_zlabel('Z')\n",
    "ax.set_title('Diffs')\n",
    "fig.show()"
   ]
  },
  {
   "cell_type": "code",
   "execution_count": 113,
   "metadata": {
    "collapsed": true
   },
   "outputs": [],
   "source": [
    "#mixed actual and target scatter\n",
    "xs = np.r_[pairs['targets_pts'][:,0], pairs['actuals_pts'][:,0]]\n",
    "ys = np.r_[pairs['targets_pts'][:,1], pairs['actuals_pts'][:,1]]\n",
    "zs = np.r_[pairs['targets_pts'][:,2], pairs['actuals_pts'][:,2]]\n",
    "\n",
    "n = zs.shape[0]/2\n",
    "cs = np.r_[['r']*n, ['b']*n]\n",
    "\n",
    "fig = plt.figure()\n",
    "ax = fig.add_subplot(111, projection='3d')\n",
    "ax.set_xlim([-0.18, 0.18])\n",
    "ax.set_ylim([-0.18, 0.18])\n",
    "ax.set_zlim([-0.02, 0.16])\n",
    "ax.scatter(xs, ys, zs, c=cs)\n",
    "ax.set_xlabel('X')\n",
    "ax.set_ylabel('Y')\n",
    "ax.set_zlabel('Z')\n",
    "ax.set_title('Red = Targets. Blue = Actuals')\n",
    "fig.show()"
   ]
  },
  {
   "cell_type": "code",
   "execution_count": 85,
   "metadata": {
    "collapsed": false
   },
   "outputs": [],
   "source": [
    "pairs['diffs_failures'] = np.take(pairs['relatives'], np.argwhere(pairs['successes'] == 0), axis=0)\n",
    "pairs['diffs_successes'] = np.take(pairs['relatives'], np.argwhere(pairs['successes'] == 1), axis=0)\n",
    "\n",
    "pairs['diffs_failures'] = pairs['diffs_failures'].reshape((pairs['diffs_failures'].shape[0], 3))\n",
    "pairs['diffs_successes'] = pairs['diffs_successes'].reshape((pairs['diffs_successes'].shape[0], 3))"
   ]
  },
  {
   "cell_type": "code",
   "execution_count": 100,
   "metadata": {
    "collapsed": false
   },
   "outputs": [],
   "source": [
    "#mixed successes and failures scatter\n",
    "xs = np.r_[pairs['diffs_failures'][:,0], pairs['diffs_successes'][:,0]]\n",
    "ys = np.r_[pairs['diffs_failures'][:,1], pairs['diffs_successes'][:,1]]\n",
    "zs = np.r_[pairs['diffs_failures'][:,2], pairs['diffs_successes'][:,2]]\n",
    "\n",
    "n = zs.shape[0]/2\n",
    "cs = np.r_[['r']*n, ['b']*n]\n",
    "\n",
    "fig = plt.figure(figsize=(500,500))\n",
    "ax = fig.add_subplot(111, projection='3d')\n",
    "ax.set_xlim([-0.008, 0.008])\n",
    "ax.set_ylim([-0.008, 0.008])\n",
    "ax.set_zlim([-0.002, 0.014])\n",
    "ax.scatter(xs, ys, zs, c=cs)\n",
    "ax.set_xlabel('X')\n",
    "ax.set_ylabel('Y')\n",
    "ax.set_zlabel('Z')\n",
    "ax.set_title('Diffs. Red = Failures. Blue = Successes')\n",
    "fig.show()"
   ]
  },
  {
   "cell_type": "code",
   "execution_count": 115,
   "metadata": {
    "collapsed": false
   },
   "outputs": [
    {
     "name": "stdout",
     "output_type": "stream",
     "text": [
      "mean\n",
      "array([  1.70398127e-03,   3.08850682e-05,   6.11979781e-04])\n",
      "cov\n",
      "array([[  5.24198858e-07,  -1.23597659e-07,   1.93426049e-07],\n",
      "       [ -1.23597659e-07,   1.04596358e-06,   1.81981953e-08],\n",
      "       [  1.93426049e-07,   1.81981953e-08,   4.16089676e-06]])\n"
     ]
    }
   ],
   "source": [
    "diffs_mean = np.mean(pairs['relatives'], axis=0)\n",
    "diffs_cov = np.cov(pairs['relatives'].T)\n",
    "print 'mean'\n",
    "print repr(diffs_mean)\n",
    "print 'cov'\n",
    "print repr(diffs_cov)"
   ]
  }
 ],
 "metadata": {
  "kernelspec": {
   "display_name": "Python 2",
   "language": "python",
   "name": "python2"
  },
  "language_info": {
   "codemirror_mode": {
    "name": "ipython",
    "version": 2
   },
   "file_extension": ".py",
   "mimetype": "text/x-python",
   "name": "python",
   "nbconvert_exporter": "python",
   "pygments_lexer": "ipython2",
   "version": "2.7.11"
  }
 },
 "nbformat": 4,
 "nbformat_minor": 0
}
