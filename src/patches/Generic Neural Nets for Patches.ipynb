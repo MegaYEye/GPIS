{
 "cells": [
  {
   "cell_type": "markdown",
   "metadata": {},
   "source": [
    "## Neural Networks for Patches"
   ]
  },
  {
   "cell_type": "code",
   "execution_count": 214,
   "metadata": {
    "collapsed": false
   },
   "outputs": [],
   "source": [
    "#global imports\n",
    "import numpy as np\n",
    "import tensorflow as tf\n",
    "import tensorflow.contrib.learn as skflow\n",
    "from sklearn.preprocessing import normalize\n",
    "from sklearn.metrics import mean_squared_error, r2_score\n",
    "import time\n",
    "from datetime import timedelta\n",
    "import itertools"
   ]
  },
  {
   "cell_type": "code",
   "execution_count": 2,
   "metadata": {
    "collapsed": true
   },
   "outputs": [],
   "source": [
    "from util import PatchesDataLoader, PatchesSKLearner"
   ]
  },
  {
   "cell_type": "markdown",
   "metadata": {},
   "source": [
    "### Data Imports"
   ]
  },
  {
   "cell_type": "code",
   "execution_count": 33,
   "metadata": {
    "collapsed": false
   },
   "outputs": [],
   "source": [
    "#data_path = '/home/jacky/ws/patches/data/'\n",
    "data_path = '/mnt/wd_ssd/projects/deep_patches/data/patches_06_11_16'\n",
    "pdl = PatchesDataLoader(0.25, data_path, [i for i in range(1)], by_objs=False)"
   ]
  },
  {
   "cell_type": "code",
   "execution_count": 4,
   "metadata": {
    "collapsed": false
   },
   "outputs": [],
   "source": [
    "def one_hot(types, labels):\n",
    "    result = np.zeros((labels.shape[0], len(types)))\n",
    "    for i in range(labels.shape[0]):\n",
    "        result[i][types[labels[i]]] = 1\n",
    "    return result        "
   ]
  },
  {
   "cell_type": "code",
   "execution_count": 34,
   "metadata": {
    "collapsed": false
   },
   "outputs": [],
   "source": [
    "fc_tr_1h = one_hot([0, 1], pdl.labels['fc']['tr'])\n",
    "fc_t_1h = one_hot([0, 1], pdl.labels['fc']['t'])"
   ]
  },
  {
   "cell_type": "code",
   "execution_count": 6,
   "metadata": {
    "collapsed": false
   },
   "outputs": [
    {
     "ename": "KeyError",
     "evalue": "'pfc_10'",
     "output_type": "error",
     "traceback": [
      "\u001b[1;31m---------------------------------------------------------------------------\u001b[0m",
      "\u001b[1;31mKeyError\u001b[0m                                  Traceback (most recent call last)",
      "\u001b[1;32m<ipython-input-6-83e4503b72cf>\u001b[0m in \u001b[0;36m<module>\u001b[1;34m()\u001b[0m\n\u001b[1;32m----> 1\u001b[1;33m \u001b[0mpfc_10_tr\u001b[0m \u001b[1;33m=\u001b[0m \u001b[0mpdl\u001b[0m\u001b[1;33m.\u001b[0m\u001b[0mlabels\u001b[0m\u001b[1;33m[\u001b[0m\u001b[1;34m'pfc_10'\u001b[0m\u001b[1;33m]\u001b[0m\u001b[1;33m[\u001b[0m\u001b[1;34m'tr'\u001b[0m\u001b[1;33m]\u001b[0m\u001b[1;33m.\u001b[0m\u001b[0mreshape\u001b[0m\u001b[1;33m(\u001b[0m\u001b[1;33m-\u001b[0m\u001b[1;36m1\u001b[0m\u001b[1;33m,\u001b[0m \u001b[1;36m1\u001b[0m\u001b[1;33m)\u001b[0m\u001b[1;33m\u001b[0m\u001b[0m\n\u001b[0m\u001b[0;32m      2\u001b[0m \u001b[0mpfc_10_t\u001b[0m \u001b[1;33m=\u001b[0m \u001b[0mpdl\u001b[0m\u001b[1;33m.\u001b[0m\u001b[0mlabels\u001b[0m\u001b[1;33m[\u001b[0m\u001b[1;34m'pfc_10'\u001b[0m\u001b[1;33m]\u001b[0m\u001b[1;33m[\u001b[0m\u001b[1;34m't'\u001b[0m\u001b[1;33m]\u001b[0m\u001b[1;33m.\u001b[0m\u001b[0mreshape\u001b[0m\u001b[1;33m(\u001b[0m\u001b[1;33m-\u001b[0m\u001b[1;36m1\u001b[0m\u001b[1;33m,\u001b[0m \u001b[1;36m1\u001b[0m\u001b[1;33m)\u001b[0m\u001b[1;33m\u001b[0m\u001b[0m\n",
      "\u001b[1;31mKeyError\u001b[0m: 'pfc_10'"
     ]
    }
   ],
   "source": [
    "pfc_10_tr = pdl.labels['pfc_10']['tr'].reshape(-1, 1)\n",
    "pfc_10_t = pdl.labels['pfc_10']['t'].reshape(-1, 1)"
   ]
  },
  {
   "cell_type": "code",
   "execution_count": 84,
   "metadata": {
    "collapsed": true
   },
   "outputs": [],
   "source": [
    "def get_cropped_X(pdl, dim):\n",
    "    \n",
    "    def crop(img, dim):\n",
    "        big_dim = int(np.sqrt(img.shape[0]))\n",
    "        img = img.reshape(big_dim, big_dim)\n",
    "        mid = big_dim // 2\n",
    "        delta = dim // 2\n",
    "\n",
    "        small_img = img[mid - delta : mid + delta + 1, mid - delta : mid + delta + 1]\n",
    "\n",
    "        return small_img.reshape(dim*dim)\n",
    "\n",
    "    cropped_w1 = np.array([crop(pdl._raw_data['w1_proj'][i,:], 3) for i in range(len(pdl._raw_data['w1_proj']))])\n",
    "    cropped_w2 = np.array([crop(pdl._raw_data['w2_proj'][i,:], 3) for i in range(len(pdl._raw_data['w2_proj']))])\n",
    "\n",
    "    cropped_w1_tr, cropped_w1_t, _ = pdl.split_train_test(cropped_w1, 0.25, pdl.indices)\n",
    "    cropped_w2_tr, cropped_w2_t, _ = pdl.split_train_test(cropped_w1, 0.25, pdl.indices)\n",
    "\n",
    "    X = pdl.get_partial_train_data(('moment_arms', 'patch_ori'))\n",
    "\n",
    "    X['tr'] = np.c_[X['tr'], cropped_w1_tr, cropped_w2_tr]\n",
    "    X['t'] = np.c_[X['t'], cropped_w1_t, cropped_w2_t]\n",
    "    \n",
    "    return X"
   ]
  },
  {
   "cell_type": "code",
   "execution_count": 85,
   "metadata": {
    "collapsed": true
   },
   "outputs": [],
   "source": [
    "X = get_cropped_X(pdl, 3)"
   ]
  },
  {
   "cell_type": "markdown",
   "metadata": {},
   "source": [
    "### DNN For Classification"
   ]
  },
  {
   "cell_type": "code",
   "execution_count": 73,
   "metadata": {
    "collapsed": true
   },
   "outputs": [],
   "source": [
    "batch_size = 100"
   ]
  },
  {
   "cell_type": "code",
   "execution_count": 89,
   "metadata": {
    "collapsed": false
   },
   "outputs": [],
   "source": [
    "clf = skflow.TensorFlowDNNClassifier(hidden_units=[50, 50, 50], n_classes=2, batch_size=batch_size, steps=5000,\n",
    "                                    optimizer=\"Adam\", learning_rate=0.001, dropout=0.25, continue_training=True)"
   ]
  },
  {
   "cell_type": "code",
   "execution_count": 90,
   "metadata": {
    "collapsed": false,
    "scrolled": true
   },
   "outputs": [
    {
     "name": "stdout",
     "output_type": "stream",
     "text": [
      "Step #100, epoch #4, avg. train loss: 0.67778\n",
      "Step #200, epoch #9, avg. train loss: 0.62479\n",
      "Step #300, epoch #13, avg. train loss: 0.60075\n",
      "Step #400, epoch #18, avg. train loss: 0.57387\n",
      "Step #500, epoch #22, avg. train loss: 0.55217\n",
      "Step #600, epoch #27, avg. train loss: 0.54057\n",
      "Step #700, epoch #31, avg. train loss: 0.52769\n",
      "Step #800, epoch #36, avg. train loss: 0.51661\n",
      "Step #900, epoch #40, avg. train loss: 0.51055\n",
      "Step #1000, epoch #45, avg. train loss: 0.50031\n",
      "Step #1100, epoch #50, avg. train loss: 0.49292\n",
      "Step #1200, epoch #54, avg. train loss: 0.48682\n",
      "Step #1300, epoch #59, avg. train loss: 0.47828\n",
      "Step #1400, epoch #63, avg. train loss: 0.47869\n",
      "Step #1500, epoch #68, avg. train loss: 0.47181\n",
      "Step #1600, epoch #72, avg. train loss: 0.46332\n",
      "Step #1700, epoch #77, avg. train loss: 0.46078\n",
      "Step #1800, epoch #81, avg. train loss: 0.45502\n",
      "Step #1900, epoch #86, avg. train loss: 0.44796\n",
      "Step #2000, epoch #90, avg. train loss: 0.44984\n",
      "Step #2100, epoch #95, avg. train loss: 0.43965\n",
      "Step #2200, epoch #100, avg. train loss: 0.43582\n",
      "Step #2300, epoch #104, avg. train loss: 0.43507\n",
      "Step #2400, epoch #109, avg. train loss: 0.42792\n",
      "Step #2500, epoch #113, avg. train loss: 0.42448\n",
      "Step #2600, epoch #118, avg. train loss: 0.42350\n",
      "Step #2700, epoch #122, avg. train loss: 0.41810\n",
      "Step #2800, epoch #127, avg. train loss: 0.41801\n",
      "Step #2900, epoch #131, avg. train loss: 0.41182\n",
      "Step #3000, epoch #136, avg. train loss: 0.40847\n",
      "Step #3100, epoch #140, avg. train loss: 0.41182\n",
      "Step #3200, epoch #145, avg. train loss: 0.40808\n",
      "Step #3300, epoch #150, avg. train loss: 0.40567\n",
      "Step #3400, epoch #154, avg. train loss: 0.39938\n",
      "Step #3500, epoch #159, avg. train loss: 0.39651\n",
      "Step #3600, epoch #163, avg. train loss: 0.40560\n",
      "Step #3700, epoch #168, avg. train loss: 0.39698\n",
      "Step #3800, epoch #172, avg. train loss: 0.39354\n",
      "Step #3900, epoch #177, avg. train loss: 0.39121\n",
      "Step #4000, epoch #181, avg. train loss: 0.38608\n",
      "Step #4100, epoch #186, avg. train loss: 0.39266\n",
      "Step #4200, epoch #190, avg. train loss: 0.38747\n",
      "Step #4300, epoch #195, avg. train loss: 0.38295\n",
      "Step #4400, epoch #200, avg. train loss: 0.38142\n",
      "Step #4500, epoch #204, avg. train loss: 0.38585\n",
      "Step #4600, epoch #209, avg. train loss: 0.37890\n",
      "Step #4700, epoch #213, avg. train loss: 0.37051\n",
      "Step #4800, epoch #218, avg. train loss: 0.38091\n",
      "Step #4900, epoch #222, avg. train loss: 0.37718\n",
      "Step #5000, epoch #227, avg. train loss: 0.37169\n",
      "took 19.6682641506s\n"
     ]
    }
   ],
   "source": [
    "start = time.time()\n",
    "clf.fit(X['tr'], pdl.labels['fc']['tr'])\n",
    "end = time.time()\n",
    "print 'took {0}s'.format(end - start)"
   ]
  },
  {
   "cell_type": "code",
   "execution_count": 79,
   "metadata": {
    "collapsed": false
   },
   "outputs": [
    {
     "name": "stdout",
     "output_type": "stream",
     "text": [
      "DNN Classification train accuracy 0.856011183597, test accuracy 0.758041958042\n"
     ]
    }
   ],
   "source": [
    "PatchesSKLearner.print_accuracy(clf, X['tr'], pdl.labels['fc']['tr'], X['t'], pdl.labels['fc']['t'], \"DNN Classification\")"
   ]
  },
  {
   "cell_type": "code",
   "execution_count": 237,
   "metadata": {
    "collapsed": false
   },
   "outputs": [
    {
     "name": "stdout",
     "output_type": "stream",
     "text": [
      "Help on method save in module tensorflow.contrib.learn.python.learn.estimators.base:\n",
      "\n",
      "save(self, path) method of tensorflow.contrib.learn.python.learn.estimators.dnn.TensorFlowDNNClassifier instance\n",
      "    Saves checkpoints and graph to given path.\n",
      "    \n",
      "    Args:\n",
      "        path: Folder to save model to.\n",
      "\n"
     ]
    }
   ],
   "source": [
    "from sklearn.externals import joblib\n",
    "help(clf.save)\n"
   ]
  },
  {
   "cell_type": "markdown",
   "metadata": {},
   "source": [
    "### Grid Search CV on Classification"
   ]
  },
  {
   "cell_type": "code",
   "execution_count": 223,
   "metadata": {
    "collapsed": false
   },
   "outputs": [],
   "source": [
    "class LoopTimingForecaster:\n",
    "    \n",
    "    def __init__(self, n):\n",
    "        self._n = n\n",
    "        self._i = 0\n",
    "        self._start = None\n",
    "        self._temp_start = None\n",
    "        self._end = None\n",
    "        \n",
    "        self._times = []\n",
    "        \n",
    "    def _check_end(self):\n",
    "        if self._end is not None:\n",
    "            raise Exception(\"Can't perform this operation because end has already been called\")\n",
    "                \n",
    "    def report_forecast(self):\n",
    "        self._check_end()\n",
    "        if len(self._times) == 0:\n",
    "            print \"No data on timing yet. Can't perform forecast\"\n",
    "        else:\n",
    "            remaining_steps = self._n - self._i\n",
    "            mean_time = sum(self._times) / len(self._times)\n",
    "            remaining_time = mean_time * remaining_steps\n",
    "            \n",
    "            msg = \"Remaining time: {0}, steps: {1}. Time per step: {2}\".format(timedelta(seconds=remaining_time),\n",
    "                                                                               remaining_steps, timedelta(seconds=mean_time))\n",
    "            print msg\n",
    "            \n",
    "    def record_loop_start(self):\n",
    "        cur_time = time.time()\n",
    "        self._check_end()\n",
    "        if self._start is None:\n",
    "            self._start = cur_time\n",
    "            print \"Starting loop timer\"\n",
    "        self._temp_start = cur_time\n",
    "    \n",
    "    def record_loop_end(self):\n",
    "        cur_time = time.time()\n",
    "        self._check_end()\n",
    "        \n",
    "        if self._temp_start is None:\n",
    "            raise Exception(\"Can't end loop timer because it hasn't been started!\")\n",
    "        \n",
    "        self._times.append(cur_time - self._temp_start)\n",
    "        self._temp_start = None\n",
    "        self._i += 1\n",
    "        \n",
    "    def record_end(self):\n",
    "        self._end = time.time()"
   ]
  },
  {
   "cell_type": "code",
   "execution_count": 224,
   "metadata": {
    "collapsed": true
   },
   "outputs": [],
   "source": [
    "class SKFlowGridSearchCV:\n",
    "    \n",
    "    def __init__(self, estimator_instantiator, params, cv=0.25, random_state=None):\n",
    "        self._estimator_instantiator = estimator_instantiator\n",
    "        self._cv = cv\n",
    "        self._random_state = random_state\n",
    "        self._best_score = None\n",
    "        self._best_params = None\n",
    "        self._best_estimator = None\n",
    "        self._scores = None\n",
    "        self._params = params\n",
    "        self._params_grid = None\n",
    "        self._generate_params_grid()\n",
    "        \n",
    "    def _generate_params_grid(self):\n",
    "        self._params_grid = []\n",
    "        keys = self._params.keys()\n",
    "        options = self._params.values()\n",
    "        options_combos = itertools.product(*options)\n",
    "\n",
    "        for options_combo in options_combos:\n",
    "            param = {}\n",
    "            for i in range(len(keys)):\n",
    "                param[keys[i]] = options_combo[i]\n",
    "\n",
    "            self._params_grid.append(param)\n",
    "\n",
    "    def fit(self, X, y):\n",
    "        self._scores = []\n",
    "        self._best_score = float('-inf')\n",
    "        self._best_params = None\n",
    "        self._best_estimator = None\n",
    "        \n",
    "        X_tr, X_v, y_tr, y_v = train_test_split(X, y, test_size=self._cv)\n",
    "        ltf = LoopTimingForecaster(len(self._params_grid))\n",
    "        for params in self._params_grid:\n",
    "            ltf.record_loop_start()\n",
    "            estimator = self._estimator_instantiator().set_params(**params)\n",
    "            estimator.fit(X_tr, y_tr)\n",
    "            score = estimator.score(X_v, y_v)\n",
    "            self._scores.append((params, score))\n",
    "            \n",
    "            if score > self._best_score:\n",
    "                self._best_score = score\n",
    "                self._best_params = params\n",
    "                self._estimator = estimator\n",
    "            else:\n",
    "                del estimator\n",
    "            ltf.record_loop_end()\n",
    "            ltf.report_forecast()\n",
    "                \n",
    "    @property\n",
    "    def best_params_(self):\n",
    "        return self._best_params\n",
    "    \n",
    "    @property\n",
    "    def best_score_(self):\n",
    "        return self._best_score\n",
    "    \n",
    "    @property\n",
    "    def grid_scores_(self):\n",
    "        return self._scores\n",
    "    \n",
    "    @property\n",
    "    def best_estimator_(self):\n",
    "        return self._best_estimator\n",
    "    \n",
    "    def predict(self, X, y):\n",
    "        return self._best_estimator.predict(X, y)\n",
    "    \n",
    "    def score(self, X, y):\n",
    "        return self._best_estimator.score(X, y)"
   ]
  },
  {
   "cell_type": "code",
   "execution_count": 225,
   "metadata": {
    "collapsed": true
   },
   "outputs": [],
   "source": [
    "def get_hidden_units(layer_nums, layer_sizes):\n",
    "    all_hidden_unit_combos = []\n",
    "    for layer_num in layer_nums:\n",
    "        hidden_unit_combos = [combo for combo in itertools.permutations(layer_sizes, layer_num)]\n",
    "        all_hidden_unit_combos.extend(hidden_unit_combos)\n",
    "    return all_hidden_unit_combos"
   ]
  },
  {
   "cell_type": "code",
   "execution_count": 228,
   "metadata": {
    "collapsed": false
   },
   "outputs": [],
   "source": [
    "layer_sizes = [50, 100, 200, 500]\n",
    "layer_nums = [1, 2, 3, 4]\n",
    "hidden_units = get_hidden_units(layer_nums, layer_sizes)\n",
    "\n",
    "nn_fc_params_grid = {\n",
    " 'batch_size': [100],\n",
    " 'continue_training': [False],\n",
    " 'dropout': [0, 0.1, 0.25, 0.5, 0.7],\n",
    " 'hidden_units': hidden_units,\n",
    " 'learning_rate': [1e-3, 1e-1, 1e-5],\n",
    " 'n_classes': [2],\n",
    " 'optimizer': ['Adam', 'SGD', 'Adagrad'],\n",
    " 'steps': [5000],\n",
    " 'verbose': [0]\n",
    "}"
   ]
  },
  {
   "cell_type": "code",
   "execution_count": null,
   "metadata": {
    "collapsed": false,
    "scrolled": true
   },
   "outputs": [
    {
     "name": "stdout",
     "output_type": "stream",
     "text": [
      "Starting loop timer\n",
      "Remaining time: 14:07:35.945858, steps: 2879. Time per step: 0:00:17.664448\n",
      "Remaining time: 13:00:17.137099, steps: 2878. Time per step: 0:00:16.267247\n",
      "Remaining time: 12:42:07.948154, steps: 2877. Time per step: 0:00:15.894316\n",
      "Remaining time: 12:28:21.803226, steps: 2876. Time per step: 0:00:15.612588\n",
      "Remaining time: 12:36:29.532995, steps: 2875. Time per step: 0:00:15.787664\n",
      "Remaining time: 12:24:02.476830, steps: 2874. Time per step: 0:00:15.533221\n",
      "Remaining time: 12:00:43.661054, steps: 2873. Time per step: 0:00:15.051744\n",
      "Remaining time: 11:43:54.788831, steps: 2872. Time per step: 0:00:14.705706\n",
      "Remaining time: 11:34:34.378313, steps: 2871. Time per step: 0:00:14.515632\n",
      "Remaining time: 11:21:56.217421, steps: 2870. Time per step: 0:00:14.256522\n",
      "Remaining time: 11:12:49.339986, steps: 2869. Time per step: 0:00:14.070875\n",
      "Remaining time: 11:05:29.342962, steps: 2868. Time per step: 0:00:13.922365\n",
      "Remaining time: 10:58:58.453753, steps: 2867. Time per step: 0:00:13.790880\n",
      "Remaining time: 10:52:40.212622, steps: 2866. Time per step: 0:00:13.663717\n",
      "Remaining time: 10:48:33.429379, steps: 2865. Time per step: 0:00:13.582349\n",
      "Remaining time: 10:43:52.229888, steps: 2864. Time per step: 0:00:13.488907\n",
      "Remaining time: 10:39:53.958772, steps: 2863. Time per step: 0:00:13.410394\n",
      "Remaining time: 10:35:42.174299, steps: 2862. Time per step: 0:00:13.327105\n",
      "Remaining time: 10:30:44.886635, steps: 2861. Time per step: 0:00:13.227853\n",
      "Remaining time: 10:25:53.756906, steps: 2860. Time per step: 0:00:13.130684\n",
      "Remaining time: 10:22:44.742678, steps: 2859. Time per step: 0:00:13.069165\n",
      "Remaining time: 10:19:49.725353, steps: 2858. Time per step: 0:00:13.012500\n",
      "Remaining time: 10:17:32.528237, steps: 2857. Time per step: 0:00:12.969033\n",
      "Remaining time: 10:15:36.863706, steps: 2856. Time per step: 0:00:12.933076\n",
      "Remaining time: 10:13:43.142810, steps: 2855. Time per step: 0:00:12.897773\n",
      "Remaining time: 10:11:15.365829, steps: 2854. Time per step: 0:00:12.850514\n",
      "Remaining time: 10:08:48.669824, steps: 2853. Time per step: 0:00:12.803600\n",
      "Remaining time: 10:06:25.970399, steps: 2852. Time per step: 0:00:12.758054\n",
      "Remaining time: 10:04:27.685421, steps: 2851. Time per step: 0:00:12.721040\n",
      "Remaining time: 10:01:37.493396, steps: 2850. Time per step: 0:00:12.665787\n",
      "Remaining time: 9:59:48.072605, steps: 2849. Time per step: 0:00:12.631826\n",
      "Remaining time: 9:58:34.762163, steps: 2848. Time per step: 0:00:12.610520\n",
      "Remaining time: 9:56:53.500597, steps: 2847. Time per step: 0:00:12.579382\n",
      "Remaining time: 9:55:15.068608, steps: 2846. Time per step: 0:00:12.549216\n",
      "Remaining time: 9:53:42.318267, steps: 2845. Time per step: 0:00:12.521026\n",
      "Remaining time: 9:52:08.590951, steps: 2844. Time per step: 0:00:12.492472\n",
      "Remaining time: 9:50:41.531257, steps: 2843. Time per step: 0:00:12.466244\n",
      "Remaining time: 9:49:33.380147, steps: 2842. Time per step: 0:00:12.446650\n",
      "Remaining time: 9:48:29.836055, steps: 2841. Time per step: 0:00:12.428665\n",
      "Remaining time: 9:47:46.648379, steps: 2840. Time per step: 0:00:12.417834\n",
      "Remaining time: 9:47:07.473802, steps: 2839. Time per step: 0:00:12.408409\n",
      "Remaining time: 9:45:46.963783, steps: 2838. Time per step: 0:00:12.384413\n",
      "Remaining time: 9:45:05.571974, steps: 2837. Time per step: 0:00:12.374188\n",
      "Remaining time: 9:44:45.612430, steps: 2836. Time per step: 0:00:12.371514\n",
      "Remaining time: 9:44:00.127132, steps: 2835. Time per step: 0:00:12.359833\n",
      "Remaining time: 9:44:11.318742, steps: 2834. Time per step: 0:00:12.368144\n",
      "Remaining time: 9:44:48.777309, steps: 2833. Time per step: 0:00:12.385731\n",
      "Remaining time: 9:45:05.762809, steps: 2832. Time per step: 0:00:12.396103\n",
      "Remaining time: 9:45:23.723538, steps: 2831. Time per step: 0:00:12.406826\n",
      "Remaining time: 9:45:07.356259, steps: 2830. Time per step: 0:00:12.405426\n",
      "Remaining time: 9:45:15.296934, steps: 2829. Time per step: 0:00:12.412618\n",
      "Remaining time: 9:45:07.910648, steps: 2828. Time per step: 0:00:12.414396\n",
      "Remaining time: 9:45:15.506789, steps: 2827. Time per step: 0:00:12.421474\n",
      "Remaining time: 9:44:58.408075, steps: 2826. Time per step: 0:00:12.419819\n",
      "Remaining time: 9:44:45.666982, steps: 2825. Time per step: 0:00:12.419705\n",
      "Remaining time: 9:44:33.179793, steps: 2824. Time per step: 0:00:12.419681\n",
      "Remaining time: 9:44:42.624730, steps: 2823. Time per step: 0:00:12.427426\n",
      "Remaining time: 9:44:58.344841, steps: 2822. Time per step: 0:00:12.437401\n",
      "Remaining time: 9:44:48.464373, steps: 2821. Time per step: 0:00:12.438307\n",
      "Remaining time: 9:44:51.293165, steps: 2820. Time per step: 0:00:12.443721\n",
      "Remaining time: 9:44:38.990809, steps: 2819. Time per step: 0:00:12.443771\n",
      "Remaining time: 9:44:29.812642, steps: 2818. Time per step: 0:00:12.444930\n",
      "Remaining time: 9:44:12.608144, steps: 2817. Time per step: 0:00:12.443240\n",
      "Remaining time: 9:43:44.839726, steps: 2816. Time per step: 0:00:12.437798\n",
      "Remaining time: 9:43:29.223651, steps: 2815. Time per step: 0:00:12.436669\n",
      "Remaining time: 9:42:41.591933, steps: 2814. Time per step: 0:00:12.424162\n",
      "Remaining time: 9:42:15.280532, steps: 2813. Time per step: 0:00:12.419225\n",
      "Remaining time: 9:48:06.824086, steps: 2812. Time per step: 0:00:12.548657\n",
      "Remaining time: 9:55:03.300303, steps: 2811. Time per step: 0:00:12.701281\n",
      "Remaining time: 9:58:23.323414, steps: 2810. Time per step: 0:00:12.776983\n",
      "Remaining time: 9:58:07.498378, steps: 2809. Time per step: 0:00:12.775898\n",
      "Remaining time: 9:57:31.345669, steps: 2808. Time per step: 0:00:12.767573\n",
      "Remaining time: 9:56:38.935127, steps: 2807. Time per step: 0:00:12.753450\n",
      "Remaining time: 9:55:41.600543, steps: 2806. Time per step: 0:00:12.737563\n",
      "Remaining time: 9:54:51.248203, steps: 2805. Time per step: 0:00:12.724153\n",
      "Remaining time: 9:54:22.938875, steps: 2804. Time per step: 0:00:12.718594\n",
      "Remaining time: 9:53:53.167866, steps: 2803. Time per step: 0:00:12.712511\n",
      "Remaining time: 9:53:40.380748, steps: 2802. Time per step: 0:00:12.712484\n",
      "Remaining time: 9:53:04.211554, steps: 2801. Time per step: 0:00:12.704110\n",
      "Remaining time: 9:52:55.324516, steps: 2800. Time per step: 0:00:12.705473\n",
      "Remaining time: 9:52:59.636549, steps: 2799. Time per step: 0:00:12.711553\n",
      "Remaining time: 9:52:11.876913, steps: 2798. Time per step: 0:00:12.699027\n",
      "Remaining time: 9:51:30.082123, steps: 2797. Time per step: 0:00:12.688624\n",
      "Remaining time: 9:50:45.285957, steps: 2796. Time per step: 0:00:12.677141\n",
      "Remaining time: 9:50:05.710588, steps: 2795. Time per step: 0:00:12.667517\n",
      "Remaining time: 9:49:29.388447, steps: 2794. Time per step: 0:00:12.659051\n",
      "Remaining time: 9:49:42.745746, steps: 2793. Time per step: 0:00:12.668366\n",
      "Remaining time: 9:49:59.294526, steps: 2792. Time per step: 0:00:12.678830\n",
      "Remaining time: 9:49:45.452186, steps: 2791. Time per step: 0:00:12.678414\n",
      "Remaining time: 9:50:03.211078, steps: 2790. Time per step: 0:00:12.689323\n",
      "Remaining time: 9:52:20.896850, steps: 2789. Time per step: 0:00:12.743240\n",
      "Remaining time: 9:53:37.636403, steps: 2788. Time per step: 0:00:12.775336\n",
      "Remaining time: 9:55:16.047476, steps: 2787. Time per step: 0:00:12.815231\n",
      "Remaining time: 9:59:16.964539, steps: 2786. Time per step: 0:00:12.906305\n",
      "Remaining time: 10:02:59.758160, steps: 2785. Time per step: 0:00:12.990937\n",
      "Remaining time: 10:05:09.184233, steps: 2784. Time per step: 0:00:13.042092\n",
      "Remaining time: 10:07:22.681955, steps: 2783. Time per step: 0:00:13.094747\n",
      "Remaining time: 10:08:28.997264, steps: 2782. Time per step: 0:00:13.123292\n",
      "Remaining time: 10:10:11.654234, steps: 2781. Time per step: 0:00:13.164924\n",
      "Remaining time: 10:11:30.623787, steps: 2780. Time per step: 0:00:13.198066\n",
      "Remaining time: 10:13:01.873059, steps: 2779. Time per step: 0:00:13.235651\n",
      "Remaining time: 10:13:54.484269, steps: 2778. Time per step: 0:00:13.259354\n",
      "Remaining time: 10:15:48.459247, steps: 2777. Time per step: 0:00:13.305171\n",
      "Remaining time: 10:16:40.026129, steps: 2776. Time per step: 0:00:13.328540\n",
      "Remaining time: 10:18:00.811120, steps: 2775. Time per step: 0:00:13.362454\n",
      "Remaining time: 10:19:32.977056, steps: 2774. Time per step: 0:00:13.400496\n",
      "Remaining time: 10:20:27.891760, steps: 2773. Time per step: 0:00:13.425132\n",
      "Remaining time: 10:20:59.170560, steps: 2772. Time per step: 0:00:13.441259\n",
      "Remaining time: 10:21:10.289535, steps: 2771. Time per step: 0:00:13.450123\n",
      "Remaining time: 10:22:05.743102, steps: 2770. Time per step: 0:00:13.474998\n",
      "Remaining time: 10:21:34.117616, steps: 2769. Time per step: 0:00:13.468443\n",
      "Remaining time: 10:21:53.970415, steps: 2768. Time per step: 0:00:13.480481\n",
      "Remaining time: 10:22:10.557367, steps: 2767. Time per step: 0:00:13.491347\n",
      "Remaining time: 10:23:10.437397, steps: 2766. Time per step: 0:00:13.517873\n",
      "Remaining time: 10:23:56.317871, steps: 2765. Time per step: 0:00:13.539355\n",
      "Remaining time: 10:23:09.690159, steps: 2764. Time per step: 0:00:13.527384\n",
      "Remaining time: 10:22:35.356646, steps: 2763. Time per step: 0:00:13.519854\n",
      "Remaining time: 10:21:46.958866, steps: 2762. Time per step: 0:00:13.507226\n",
      "Remaining time: 10:21:03.511537, steps: 2761. Time per step: 0:00:13.496382\n",
      "Remaining time: 10:20:18.526745, steps: 2760. Time per step: 0:00:13.484973\n",
      "Remaining time: 10:19:57.087588, steps: 2759. Time per step: 0:00:13.482090\n",
      "Remaining time: 10:19:37.990245, steps: 2758. Time per step: 0:00:13.480054\n",
      "Remaining time: 10:19:37.668154, steps: 2757. Time per step: 0:00:13.484827\n",
      "Remaining time: 10:19:47.487107, steps: 2756. Time per step: 0:00:13.493283\n",
      "Remaining time: 10:19:33.695851, steps: 2755. Time per step: 0:00:13.493175\n",
      "Remaining time: 10:19:17.484140, steps: 2754. Time per step: 0:00:13.492187\n",
      "Remaining time: 10:19:12.819560, steps: 2753. Time per step: 0:00:13.495394\n",
      "Remaining time: 10:18:56.747348, steps: 2752. Time per step: 0:00:13.494458\n",
      "Remaining time: 10:18:55.281509, steps: 2751. Time per step: 0:00:13.498830\n",
      "Remaining time: 10:18:58.006746, steps: 2750. Time per step: 0:00:13.504730\n",
      "Remaining time: 10:18:46.568072, steps: 2749. Time per step: 0:00:13.505481\n",
      "Remaining time: 10:18:21.691798, steps: 2748. Time per step: 0:00:13.501343\n",
      "Remaining time: 10:17:54.634081, steps: 2747. Time per step: 0:00:13.496408\n",
      "Remaining time: 10:17:39.822312, steps: 2746. Time per step: 0:00:13.495929\n",
      "Remaining time: 10:17:40.694720, steps: 2745. Time per step: 0:00:13.501164\n",
      "Remaining time: 10:20:17.909384, steps: 2744. Time per step: 0:00:13.563378\n",
      "Remaining time: 10:21:50.114484, steps: 2743. Time per step: 0:00:13.601937\n",
      "Remaining time: 10:25:05.565382, steps: 2742. Time per step: 0:00:13.678178\n",
      "Remaining time: 10:28:07.726756, steps: 2741. Time per step: 0:00:13.749627\n",
      "Remaining time: 10:30:39.135900, steps: 2740. Time per step: 0:00:13.809904\n",
      "Remaining time: 10:33:30.841094, steps: 2739. Time per step: 0:00:13.877635\n",
      "Remaining time: 10:36:24.445475, steps: 2738. Time per step: 0:00:13.946109\n",
      "Remaining time: 10:39:11.554722, steps: 2737. Time per step: 0:00:14.012260\n",
      "Remaining time: 10:42:21.867366, steps: 2736. Time per step: 0:00:14.086940\n",
      "Remaining time: 10:43:53.465392, steps: 2735. Time per step: 0:00:14.125581\n",
      "Remaining time: 10:49:35.332164, steps: 2734. Time per step: 0:00:14.255791\n",
      "Remaining time: 10:52:04.554307, steps: 2733. Time per step: 0:00:14.315607\n",
      "Remaining time: 10:52:33.723999, steps: 2732. Time per step: 0:00:14.331524\n",
      "Remaining time: 10:53:34.585666, steps: 2731. Time per step: 0:00:14.359057\n",
      "Remaining time: 10:54:45.529784, steps: 2730. Time per step: 0:00:14.390304\n",
      "Remaining time: 10:57:24.292077, steps: 2729. Time per step: 0:00:14.453753\n",
      "Remaining time: 10:59:23.642988, steps: 2728. Time per step: 0:00:14.502802\n",
      "Remaining time: 11:01:20.986206, steps: 2727. Time per step: 0:00:14.551150\n",
      "Remaining time: 11:02:33.360327, steps: 2726. Time per step: 0:00:14.583038\n",
      "Remaining time: 11:04:03.166529, steps: 2725. Time per step: 0:00:14.621346\n",
      "Remaining time: 11:05:56.697625, steps: 2724. Time per step: 0:00:14.668391\n",
      "Remaining time: 11:08:21.616715, steps: 2723. Time per step: 0:00:14.726998\n",
      "Remaining time: 11:10:19.999111, steps: 2722. Time per step: 0:00:14.775900\n",
      "Remaining time: 11:13:12.231641, steps: 2721. Time per step: 0:00:14.844628\n",
      "Remaining time: 11:15:18.608266, steps: 2720. Time per step: 0:00:14.896547\n",
      "Remaining time: 11:17:13.763021, steps: 2719. Time per step: 0:00:14.944378\n",
      "Remaining time: 11:18:39.689415, steps: 2718. Time per step: 0:00:14.981490\n",
      "Remaining time: 11:19:43.764960, steps: 2717. Time per step: 0:00:15.010587\n",
      "Remaining time: 11:20:51.651130, steps: 2716. Time per step: 0:00:15.041109\n",
      "Remaining time: 11:21:56.900986, steps: 2715. Time per step: 0:00:15.070682\n",
      "Remaining time: 11:24:28.112052, steps: 2714. Time per step: 0:00:15.131950\n",
      "Remaining time: 11:26:41.159291, steps: 2713. Time per step: 0:00:15.186568\n",
      "Remaining time: 11:28:03.658413, steps: 2712. Time per step: 0:00:15.222588\n",
      "Remaining time: 11:30:05.663730, steps: 2711. Time per step: 0:00:15.273207\n",
      "Remaining time: 11:31:33.418364, steps: 2710. Time per step: 0:00:15.311224\n",
      "Remaining time: 11:33:02.624822, steps: 2709. Time per step: 0:00:15.349806\n",
      "Remaining time: 11:34:34.991995, steps: 2708. Time per step: 0:00:15.389583\n",
      "Remaining time: 11:35:02.351881, steps: 2707. Time per step: 0:00:15.405376\n",
      "Remaining time: 11:35:35.578807, steps: 2706. Time per step: 0:00:15.423348\n",
      "Remaining time: 11:35:51.098498, steps: 2705. Time per step: 0:00:15.434787\n",
      "Remaining time: 11:35:58.004071, steps: 2704. Time per step: 0:00:15.443049\n",
      "Remaining time: 11:36:08.033836, steps: 2703. Time per step: 0:00:15.452473\n",
      "Remaining time: 11:36:07.309668, steps: 2702. Time per step: 0:00:15.457924\n",
      "Remaining time: 11:36:10.568123, steps: 2701. Time per step: 0:00:15.464853\n",
      "Remaining time: 11:36:15.258604, steps: 2700. Time per step: 0:00:15.472318\n",
      "Remaining time: 11:36:09.003206, steps: 2699. Time per step: 0:00:15.475733\n",
      "Remaining time: 11:35:41.830931, steps: 2698. Time per step: 0:00:15.471398\n",
      "Remaining time: 11:35:16.590976, steps: 2697. Time per step: 0:00:15.467776\n",
      "Remaining time: 11:34:48.600244, steps: 2696. Time per step: 0:00:15.463131\n",
      "Remaining time: 11:34:23.726005, steps: 2695. Time per step: 0:00:15.459639\n",
      "Remaining time: 11:33:56.620386, steps: 2694. Time per step: 0:00:15.455316\n",
      "Remaining time: 11:33:31.089470, steps: 2693. Time per step: 0:00:15.451574\n",
      "Remaining time: 11:33:03.927249, steps: 2692. Time per step: 0:00:15.447224\n",
      "Remaining time: 11:32:45.564445, steps: 2691. Time per step: 0:00:15.446141\n",
      "Remaining time: 11:32:22.678491, steps: 2690. Time per step: 0:00:15.443375\n",
      "Remaining time: 11:31:52.924977, steps: 2689. Time per step: 0:00:15.438053\n",
      "Remaining time: 11:31:37.057501, steps: 2688. Time per step: 0:00:15.437893\n",
      "Remaining time: 11:31:10.339368, steps: 2687. Time per step: 0:00:15.433695\n",
      "Remaining time: 11:30:37.193438, steps: 2686. Time per step: 0:00:15.427101\n",
      "Remaining time: 11:30:11.076799, steps: 2685. Time per step: 0:00:15.423120\n",
      "Remaining time: 11:29:36.423151, steps: 2684. Time per step: 0:00:15.415955\n",
      "Remaining time: 11:29:00.024543, steps: 2683. Time per step: 0:00:15.408134\n",
      "Remaining time: 11:28:24.137209, steps: 2682. Time per step: 0:00:15.400499\n",
      "Remaining time: 11:27:52.757146, steps: 2681. Time per step: 0:00:15.394538\n",
      "Remaining time: 11:27:22.795239, steps: 2680. Time per step: 0:00:15.389103\n",
      "Remaining time: 11:26:51.211225, steps: 2679. Time per step: 0:00:15.383058\n",
      "Remaining time: 11:26:12.183686, steps: 2678. Time per step: 0:00:15.374228\n",
      "Remaining time: 11:26:10.372757, steps: 2677. Time per step: 0:00:15.379295\n",
      "Remaining time: 11:26:02.689677, steps: 2676. Time per step: 0:00:15.382171\n",
      "Remaining time: 11:25:44.574425, steps: 2675. Time per step: 0:00:15.381149\n",
      "Remaining time: 11:25:34.309061, steps: 2674. Time per step: 0:00:15.383062\n",
      "Remaining time: 11:25:27.537957, steps: 2673. Time per step: 0:00:15.386284\n",
      "Remaining time: 11:25:20.809348, steps: 2672. Time per step: 0:00:15.389524\n",
      "Remaining time: 11:25:16.283950, steps: 2671. Time per step: 0:00:15.393592\n",
      "Remaining time: 11:25:07.526507, steps: 2670. Time per step: 0:00:15.396077\n",
      "Remaining time: 11:24:59.915977, steps: 2669. Time per step: 0:00:15.398994\n",
      "Remaining time: 11:24:53.376250, steps: 2668. Time per step: 0:00:15.402315\n",
      "Remaining time: 11:24:50.468857, steps: 2667. Time per step: 0:00:15.407000\n",
      "Remaining time: 11:24:54.796722, steps: 2666. Time per step: 0:00:15.414402\n",
      "Remaining time: 11:25:12.123659, steps: 2665. Time per step: 0:00:15.426688\n",
      "Remaining time: 11:26:18.512987, steps: 2664. Time per step: 0:00:15.457400\n",
      "Remaining time: 11:26:33.120162, steps: 2663. Time per step: 0:00:15.468690\n",
      "Remaining time: 11:26:43.460535, steps: 2662. Time per step: 0:00:15.478385\n",
      "Remaining time: 11:26:48.956848, steps: 2661. Time per step: 0:00:15.486267\n",
      "Remaining time: 11:26:55.674758, steps: 2660. Time per step: 0:00:15.494615\n",
      "Remaining time: 11:26:52.015020, steps: 2659. Time per step: 0:00:15.499065\n",
      "Remaining time: 11:27:27.278887, steps: 2658. Time per step: 0:00:15.518164\n",
      "Remaining time: 11:28:35.481500, steps: 2657. Time per step: 0:00:15.549673\n",
      "Remaining time: 11:28:45.962404, steps: 2656. Time per step: 0:00:15.559474\n",
      "Remaining time: 11:28:27.911338, steps: 2655. Time per step: 0:00:15.558535\n",
      "Remaining time: 11:28:18.790322, steps: 2654. Time per step: 0:00:15.560961\n",
      "Remaining time: 11:28:45.958721, steps: 2653. Time per step: 0:00:15.577067\n",
      "Remaining time: 11:30:02.221485, steps: 2652. Time per step: 0:00:15.611697\n",
      "Remaining time: 11:31:02.961534, steps: 2651. Time per step: 0:00:15.640499\n",
      "Remaining time: 11:31:20.943537, steps: 2650. Time per step: 0:00:15.653186\n",
      "Remaining time: 11:32:10.361807, steps: 2649. Time per step: 0:00:15.677751\n",
      "Remaining time: 11:32:32.444376, steps: 2648. Time per step: 0:00:15.692011\n",
      "Remaining time: 11:32:33.836493, steps: 2647. Time per step: 0:00:15.698465\n",
      "Remaining time: 11:32:53.827946, steps: 2646. Time per step: 0:00:15.711953\n",
      "Remaining time: 11:33:25.281349, steps: 2645. Time per step: 0:00:15.729785\n",
      "Remaining time: 11:33:26.803002, steps: 2644. Time per step: 0:00:15.736310\n",
      "Remaining time: 11:33:37.415533, steps: 2643. Time per step: 0:00:15.746279\n",
      "Remaining time: 11:33:36.571464, steps: 2642. Time per step: 0:00:15.751920\n",
      "Remaining time: 11:33:50.276558, steps: 2641. Time per step: 0:00:15.763073\n",
      "Remaining time: 11:34:06.561243, steps: 2640. Time per step: 0:00:15.775213\n",
      "Remaining time: 11:34:34.364443, steps: 2639. Time per step: 0:00:15.791726\n",
      "Remaining time: 11:35:24.664212, steps: 2638. Time per step: 0:00:15.816779\n",
      "Remaining time: 11:35:29.845033, steps: 2637. Time per step: 0:00:15.824742\n",
      "Remaining time: 11:35:42.485762, steps: 2636. Time per step: 0:00:15.835541\n",
      "Remaining time: 11:36:11.963081, steps: 2635. Time per step: 0:00:15.852737\n",
      "Remaining time: 11:36:47.543686, steps: 2634. Time per step: 0:00:15.872264\n",
      "Remaining time: 11:37:31.924492, steps: 2633. Time per step: 0:00:15.895148\n",
      "Remaining time: 11:38:02.646162, steps: 2632. Time per step: 0:00:15.912859\n",
      "Remaining time: 11:38:49.529720, steps: 2631. Time per step: 0:00:15.936727\n",
      "Remaining time: 11:39:05.320858, steps: 2630. Time per step: 0:00:15.948791\n",
      "Remaining time: 11:39:19.113291, steps: 2629. Time per step: 0:00:15.960104\n",
      "Remaining time: 11:39:36.770722, steps: 2628. Time per step: 0:00:15.972896\n",
      "Remaining time: 11:39:41.223196, steps: 2627. Time per step: 0:00:15.980671\n",
      "Remaining time: 11:39:58.561532, steps: 2626. Time per step: 0:00:15.993359\n",
      "Remaining time: 11:40:30.206957, steps: 2625. Time per step: 0:00:16.011507\n",
      "Remaining time: 11:41:10.794409, steps: 2624. Time per step: 0:00:16.033077\n",
      "Remaining time: 11:41:34.856120, steps: 2623. Time per step: 0:00:16.048363\n",
      "Remaining time: 11:42:13.851424, steps: 2622. Time per step: 0:00:16.069356\n",
      "Remaining time: 11:42:53.869778, steps: 2621. Time per step: 0:00:16.090755\n",
      "Remaining time: 11:43:55.440222, steps: 2620. Time per step: 0:00:16.120397\n",
      "Remaining time: 11:44:15.018911, steps: 2619. Time per step: 0:00:16.134028\n",
      "Remaining time: 11:44:36.871945, steps: 2618. Time per step: 0:00:16.148538\n",
      "Remaining time: 11:44:48.437968, steps: 2617. Time per step: 0:00:16.159128\n",
      "Remaining time: 11:44:55.765942, steps: 2616. Time per step: 0:00:16.168106\n",
      "Remaining time: 11:45:06.512746, steps: 2615. Time per step: 0:00:16.178399\n",
      "Remaining time: 11:45:31.187967, steps: 2614. Time per step: 0:00:16.194028\n",
      "Remaining time: 11:45:49.953995, steps: 2613. Time per step: 0:00:16.207407\n",
      "Remaining time: 11:45:44.665119, steps: 2612. Time per step: 0:00:16.211587\n",
      "Remaining time: 11:45:52.716858, steps: 2611. Time per step: 0:00:16.220880\n",
      "Remaining time: 11:45:48.134166, steps: 2610. Time per step: 0:00:16.225339\n",
      "Remaining time: 11:46:53.006023, steps: 2609. Time per step: 0:00:16.256422\n",
      "Remaining time: 11:47:42.181383, steps: 2608. Time per step: 0:00:16.281511\n",
      "Remaining time: 11:49:03.116187, steps: 2607. Time per step: 0:00:16.318802\n",
      "Remaining time: 11:50:29.666442, steps: 2606. Time per step: 0:00:16.358276\n",
      "Remaining time: 11:51:02.536094, steps: 2605. Time per step: 0:00:16.377173\n",
      "Remaining time: 11:52:01.078084, steps: 2604. Time per step: 0:00:16.405944\n",
      "Remaining time: 11:52:56.480181, steps: 2603. Time per step: 0:00:16.433531\n",
      "Remaining time: 11:54:00.092766, steps: 2602. Time per step: 0:00:16.464294\n",
      "Remaining time: 11:54:30.538039, steps: 2601. Time per step: 0:00:16.482329\n",
      "Remaining time: 11:54:57.341735, steps: 2600. Time per step: 0:00:16.498978\n",
      "Remaining time: 11:54:52.216218, steps: 2599. Time per step: 0:00:16.503354\n",
      "Remaining time: 11:55:24.617784, steps: 2598. Time per step: 0:00:16.522178\n",
      "Remaining time: 11:55:33.381772, steps: 2597. Time per step: 0:00:16.531914\n",
      "Remaining time: 11:55:30.172480, steps: 2596. Time per step: 0:00:16.537046\n",
      "Remaining time: 11:55:57.355534, steps: 2595. Time per step: 0:00:16.553894\n",
      "Remaining time: 11:56:43.237096, steps: 2594. Time per step: 0:00:16.577963\n",
      "Remaining time: 11:57:07.908592, steps: 2593. Time per step: 0:00:16.593871\n",
      "Remaining time: 11:57:54.626251, steps: 2592. Time per step: 0:00:16.618297\n",
      "Remaining time: 11:59:09.364694, steps: 2591. Time per step: 0:00:16.653556\n",
      "Remaining time: 11:59:33.235104, steps: 2590. Time per step: 0:00:16.669203\n",
      "Remaining time: 11:59:55.676805, steps: 2589. Time per step: 0:00:16.684309\n",
      "Remaining time: 12:00:18.217913, steps: 2588. Time per step: 0:00:16.699466\n",
      "Remaining time: 12:01:36.809657, steps: 2587. Time per step: 0:00:16.736301\n",
      "Remaining time: 12:02:59.693169, steps: 2586. Time per step: 0:00:16.774823\n",
      "Remaining time: 12:04:08.263004, steps: 2585. Time per step: 0:00:16.807839\n",
      "Remaining time: 12:05:21.272764, steps: 2584. Time per step: 0:00:16.842598\n",
      "Remaining time: 12:06:29.132513, steps: 2583. Time per step: 0:00:16.875390\n",
      "Remaining time: 12:07:29.795231, steps: 2582. Time per step: 0:00:16.905420\n",
      "Remaining time: 12:08:50.989458, steps: 2581. Time per step: 0:00:16.943429\n",
      "Remaining time: 12:09:53.956459, steps: 2580. Time per step: 0:00:16.974402\n",
      "Remaining time: 12:11:24.283472, steps: 2579. Time per step: 0:00:17.016008\n",
      "Remaining time: 12:12:53.492566, steps: 2578. Time per step: 0:00:17.057212\n",
      "Remaining time: 12:14:21.403470, steps: 2577. Time per step: 0:00:17.097945\n",
      "Remaining time: 12:15:48.645935, steps: 2576. Time per step: 0:00:17.138450\n",
      "Remaining time: 12:17:10.373003, steps: 2575. Time per step: 0:00:17.176844\n",
      "Remaining time: 12:18:41.442013, steps: 2574. Time per step: 0:00:17.218897\n",
      "Remaining time: 12:19:15.999372, steps: 2573. Time per step: 0:00:17.239020\n",
      "Remaining time: 12:19:22.278074, steps: 2572. Time per step: 0:00:17.248164\n",
      "Remaining time: 12:19:23.343541, steps: 2571. Time per step: 0:00:17.255287\n",
      "Remaining time: 12:20:21.324920, steps: 2570. Time per step: 0:00:17.284562\n",
      "Remaining time: 12:20:18.285195, steps: 2569. Time per step: 0:00:17.290107\n",
      "Remaining time: 12:20:17.368984, steps: 2568. Time per step: 0:00:17.296483\n",
      "Remaining time: 12:20:10.326492, steps: 2567. Time per step: 0:00:17.300478\n",
      "Remaining time: 12:20:31.142712, steps: 2566. Time per step: 0:00:17.315332\n",
      "Remaining time: 12:20:14.055709, steps: 2565. Time per step: 0:00:17.315421\n",
      "Remaining time: 12:19:34.879193, steps: 2564. Time per step: 0:00:17.306895\n",
      "Remaining time: 12:18:56.330307, steps: 2563. Time per step: 0:00:17.298607\n",
      "Remaining time: 12:18:17.443592, steps: 2562. Time per step: 0:00:17.290181\n",
      "Remaining time: 12:17:35.037435, steps: 2561. Time per step: 0:00:17.280374\n",
      "Remaining time: 12:16:58.329309, steps: 2560. Time per step: 0:00:17.272785\n",
      "Remaining time: 12:16:21.828416, steps: 2559. Time per step: 0:00:17.265271\n",
      "Remaining time: 12:15:42.556995, steps: 2558. Time per step: 0:00:17.256668\n",
      "Remaining time: 12:15:03.379332, steps: 2557. Time per step: 0:00:17.248095\n",
      "Remaining time: 12:14:40.250251, steps: 2556. Time per step: 0:00:17.245794\n",
      "Remaining time: 12:14:19.872386, steps: 2555. Time per step: 0:00:17.244568\n",
      "Remaining time: 12:13:35.252938, steps: 2554. Time per step: 0:00:17.233850\n",
      "Remaining time: 12:12:59.982032, steps: 2553. Time per step: 0:00:17.226785\n",
      "Remaining time: 12:12:33.256557, steps: 2552. Time per step: 0:00:17.223063\n",
      "Remaining time: 12:12:25.950845, steps: 2551. Time per step: 0:00:17.226951\n",
      "Remaining time: 12:11:47.746075, steps: 2550. Time per step: 0:00:17.218724\n",
      "Remaining time: 12:11:09.661075, steps: 2549. Time per step: 0:00:17.210538\n",
      "Remaining time: 12:10:26.397599, steps: 2548. Time per step: 0:00:17.200313\n",
      "Remaining time: 12:09:56.501937, steps: 2547. Time per step: 0:00:17.195329\n",
      "Remaining time: 12:09:16.189099, steps: 2546. Time per step: 0:00:17.186249\n",
      "Remaining time: 12:08:55.894315, steps: 2545. Time per step: 0:00:17.185027\n",
      "Remaining time: 12:08:11.851944, steps: 2544. Time per step: 0:00:17.174470\n",
      "Remaining time: 12:07:34.986571, steps: 2543. Time per step: 0:00:17.166727\n",
      "Remaining time: 12:06:53.406589, steps: 2542. Time per step: 0:00:17.157123\n",
      "Remaining time: 12:06:03.815617, steps: 2541. Time per step: 0:00:17.144359\n",
      "Remaining time: 12:05:15.920906, steps: 2540. Time per step: 0:00:17.132252\n",
      "Remaining time: 12:04:35.067110, steps: 2539. Time per step: 0:00:17.122909\n",
      "Remaining time: 12:04:13.686213, steps: 2538. Time per step: 0:00:17.121232\n",
      "Remaining time: 12:03:54.237910, steps: 2537. Time per step: 0:00:17.120315\n",
      "Remaining time: 12:03:29.252320, steps: 2536. Time per step: 0:00:17.117213\n",
      "Remaining time: 12:03:32.818752, steps: 2535. Time per step: 0:00:17.125372\n",
      "Remaining time: 12:03:13.382525, steps: 2534. Time per step: 0:00:17.124460\n",
      "Remaining time: 12:02:33.593215, steps: 2533. Time per step: 0:00:17.115513\n",
      "Remaining time: 12:02:03.888240, steps: 2532. Time per step: 0:00:17.110540\n",
      "Remaining time: 12:01:39.050642, steps: 2531. Time per step: 0:00:17.107487\n",
      "Remaining time: 12:01:23.985323, steps: 2530. Time per step: 0:00:17.108295\n",
      "Remaining time: 12:00:52.012096, steps: 2529. Time per step: 0:00:17.102417\n",
      "Remaining time: 12:00:22.605179, steps: 2528. Time per step: 0:00:17.097550\n",
      "Remaining time: 11:59:56.011009, steps: 2527. Time per step: 0:00:17.093791\n",
      "Remaining time: 11:59:35.366935, steps: 2526. Time per step: 0:00:17.092386\n",
      "Remaining time: 11:59:01.041140, steps: 2525. Time per step: 0:00:17.085561\n",
      "Remaining time: 11:58:26.617743, steps: 2524. Time per step: 0:00:17.078692\n",
      "Remaining time: 11:58:03.358261, steps: 2523. Time per step: 0:00:17.076242\n",
      "Remaining time: 11:57:42.797997, steps: 2522. Time per step: 0:00:17.074860\n",
      "Remaining time: 11:57:43.909106, steps: 2521. Time per step: 0:00:17.082074\n",
      "Remaining time: 11:57:43.765681, steps: 2520. Time per step: 0:00:17.088796\n",
      "Remaining time: 11:58:02.924136, steps: 2519. Time per step: 0:00:17.103185\n",
      "Remaining time: 11:57:59.291190, steps: 2518. Time per step: 0:00:17.108535\n",
      "Remaining time: 11:57:45.635555, steps: 2517. Time per step: 0:00:17.109907\n",
      "Remaining time: 11:57:34.810694, steps: 2516. Time per step: 0:00:17.112405\n",
      "Remaining time: 11:57:22.413756, steps: 2515. Time per step: 0:00:17.114280\n",
      "Remaining time: 11:57:08.983380, steps: 2514. Time per step: 0:00:17.115745\n",
      "Remaining time: 11:57:17.198858, steps: 2513. Time per step: 0:00:17.125825\n",
      "Remaining time: 11:57:10.369295, steps: 2512. Time per step: 0:00:17.129924\n",
      "Remaining time: 11:57:11.663714, steps: 2511. Time per step: 0:00:17.137262\n",
      "Remaining time: 11:56:51.370681, steps: 2510. Time per step: 0:00:17.136004\n",
      "Remaining time: 11:56:40.820374, steps: 2509. Time per step: 0:00:17.138629\n",
      "Remaining time: 11:56:37.057051, steps: 2508. Time per step: 0:00:17.143962\n",
      "Remaining time: 11:56:29.546609, steps: 2507. Time per step: 0:00:17.147805\n",
      "Remaining time: 11:56:24.027899, steps: 2506. Time per step: 0:00:17.152445\n",
      "Remaining time: 11:55:57.592443, steps: 2505. Time per step: 0:00:17.148739\n",
      "Remaining time: 11:55:37.366351, steps: 2504. Time per step: 0:00:17.147511\n",
      "Remaining time: 11:55:23.907030, steps: 2503. Time per step: 0:00:17.148984\n",
      "Remaining time: 11:55:06.481071, steps: 2502. Time per step: 0:00:17.148873\n",
      "Remaining time: 11:55:05.120336, steps: 2501. Time per step: 0:00:17.155186\n",
      "Remaining time: 11:54:45.749668, steps: 2500. Time per step: 0:00:17.154300\n",
      "Remaining time: 11:54:23.124442, steps: 2499. Time per step: 0:00:17.152111\n",
      "Remaining time: 11:54:00.844993, steps: 2498. Time per step: 0:00:17.150058\n",
      "Remaining time: 11:53:32.832991, steps: 2497. Time per step: 0:00:17.145708\n",
      "Remaining time: 11:53:22.079844, steps: 2496. Time per step: 0:00:17.148269\n",
      "Remaining time: 11:52:55.214619, steps: 2495. Time per step: 0:00:17.144375\n",
      "Remaining time: 11:52:35.389437, steps: 2494. Time per step: 0:00:17.143300\n",
      "Remaining time: 11:52:20.692563, steps: 2493. Time per step: 0:00:17.144281\n",
      "Remaining time: 11:51:58.797078, steps: 2492. Time per step: 0:00:17.142374\n",
      "Remaining time: 11:51:35.337198, steps: 2491. Time per step: 0:00:17.139838\n",
      "Remaining time: 11:51:11.756903, steps: 2490. Time per step: 0:00:17.137252\n",
      "Remaining time: 11:50:51.109348, steps: 2489. Time per step: 0:00:17.135841\n",
      "Remaining time: 11:50:31.654828, steps: 2488. Time per step: 0:00:17.134909\n",
      "Remaining time: 11:50:14.720856, steps: 2487. Time per step: 0:00:17.134990\n",
      "Remaining time: 11:49:56.672555, steps: 2486. Time per step: 0:00:17.134623\n",
      "Remaining time: 11:49:31.700249, steps: 2485. Time per step: 0:00:17.131469\n",
      "Remaining time: 11:49:01.518227, steps: 2484. Time per step: 0:00:17.126215\n",
      "Remaining time: 11:48:26.960120, steps: 2483. Time per step: 0:00:17.119195\n",
      "Remaining time: 11:47:53.149635, steps: 2482. Time per step: 0:00:17.112470\n",
      "Remaining time: 11:47:20.136630, steps: 2481. Time per step: 0:00:17.106061\n",
      "Remaining time: 11:46:46.930801, steps: 2480. Time per step: 0:00:17.099569\n",
      "Remaining time: 11:46:12.501286, steps: 2479. Time per step: 0:00:17.092578\n",
      "Remaining time: 11:45:38.509061, steps: 2478. Time per step: 0:00:17.085758\n",
      "Remaining time: 11:45:06.131562, steps: 2477. Time per step: 0:00:17.079585\n",
      "Remaining time: 11:44:32.174588, steps: 2476. Time per step: 0:00:17.072768\n",
      "Remaining time: 11:43:56.286330, steps: 2475. Time per step: 0:00:17.065166\n",
      "Remaining time: 11:44:02.458018, steps: 2474. Time per step: 0:00:17.074559\n",
      "Remaining time: 11:43:44.797761, steps: 2473. Time per step: 0:00:17.074322\n",
      "Remaining time: 11:43:49.983818, steps: 2472. Time per step: 0:00:17.083327\n",
      "Remaining time: 11:43:49.134787, steps: 2471. Time per step: 0:00:17.089897\n",
      "Remaining time: 11:43:45.802744, steps: 2470. Time per step: 0:00:17.095467\n",
      "Remaining time: 11:43:58.512952, steps: 2469. Time per step: 0:00:17.107539\n",
      "Remaining time: 11:44:15.100349, steps: 2468. Time per step: 0:00:17.121191\n",
      "Remaining time: 11:44:17.263056, steps: 2467. Time per step: 0:00:17.129008\n",
      "Remaining time: 11:44:21.496113, steps: 2466. Time per step: 0:00:17.137671\n",
      "Remaining time: 11:44:22.402759, steps: 2465. Time per step: 0:00:17.144991\n",
      "Remaining time: 11:44:45.084757, steps: 2464. Time per step: 0:00:17.161155\n",
      "Remaining time: 11:44:48.479402, steps: 2463. Time per step: 0:00:17.169500\n",
      "Remaining time: 11:44:52.092785, steps: 2462. Time per step: 0:00:17.177942\n",
      "Remaining time: 11:44:35.174124, steps: 2461. Time per step: 0:00:17.178047\n",
      "Remaining time: 11:44:23.776338, steps: 2460. Time per step: 0:00:17.180397\n",
      "Remaining time: 11:44:34.552978, steps: 2459. Time per step: 0:00:17.191766\n",
      "Remaining time: 11:44:50.477285, steps: 2458. Time per step: 0:00:17.205239\n",
      "Remaining time: 11:45:02.401578, steps: 2457. Time per step: 0:00:17.217095\n",
      "Remaining time: 11:45:23.649014, steps: 2456. Time per step: 0:00:17.232756\n",
      "Remaining time: 11:45:43.770312, steps: 2455. Time per step: 0:00:17.247972\n",
      "Remaining time: 11:46:05.885044, steps: 2454. Time per step: 0:00:17.264012\n",
      "Remaining time: 11:46:19.501626, steps: 2453. Time per step: 0:00:17.276601\n",
      "Remaining time: 11:46:35.040464, steps: 2452. Time per step: 0:00:17.289984\n",
      "Remaining time: 11:46:52.881297, steps: 2451. Time per step: 0:00:17.304317\n",
      "Remaining time: 11:46:48.460259, steps: 2450. Time per step: 0:00:17.309576\n",
      "Remaining time: 11:46:33.949387, steps: 2449. Time per step: 0:00:17.310718\n",
      "Remaining time: 11:46:23.270196, steps: 2448. Time per step: 0:00:17.313427\n",
      "Remaining time: 11:46:36.558977, steps: 2447. Time per step: 0:00:17.325933\n",
      "Remaining time: 11:46:47.291056, steps: 2446. Time per step: 0:00:17.337404\n",
      "Remaining time: 11:46:51.470903, steps: 2445. Time per step: 0:00:17.346205\n",
      "Remaining time: 11:47:12.127895, steps: 2444. Time per step: 0:00:17.361754\n",
      "Remaining time: 11:47:27.141825, steps: 2443. Time per step: 0:00:17.375007\n",
      "Remaining time: 11:48:03.120265, steps: 2442. Time per step: 0:00:17.396855\n",
      "Remaining time: 11:48:30.631820, steps: 2441. Time per step: 0:00:17.415253\n",
      "Remaining time: 11:49:08.684640, steps: 2440. Time per step: 0:00:17.437986\n",
      "Remaining time: 11:49:45.344667, steps: 2439. Time per step: 0:00:17.460166\n",
      "Remaining time: 11:50:14.841276, steps: 2438. Time per step: 0:00:17.479426\n",
      "Remaining time: 11:51:03.053921, steps: 2437. Time per step: 0:00:17.506382\n",
      "Remaining time: 11:51:27.743139, steps: 2436. Time per step: 0:00:17.523704\n",
      "Remaining time: 11:51:38.519578, steps: 2435. Time per step: 0:00:17.535326\n",
      "Remaining time: 11:51:45.054541, steps: 2434. Time per step: 0:00:17.545216\n",
      "Remaining time: 11:51:52.527040, steps: 2433. Time per step: 0:00:17.555498\n",
      "Remaining time: 11:51:55.789580, steps: 2432. Time per step: 0:00:17.564058\n",
      "Remaining time: 11:52:09.834893, steps: 2431. Time per step: 0:00:17.577061\n",
      "Remaining time: 11:52:10.050294, steps: 2430. Time per step: 0:00:17.584383\n",
      "Remaining time: 11:51:45.497569, steps: 2429. Time per step: 0:00:17.581514\n",
      "Remaining time: 11:51:25.617292, steps: 2428. Time per step: 0:00:17.580567\n",
      "Remaining time: 11:50:58.352421, steps: 2427. Time per step: 0:00:17.576577\n",
      "Remaining time: 11:50:23.495317, steps: 2426. Time per step: 0:00:17.569454\n",
      "Remaining time: 11:49:44.800638, steps: 2425. Time per step: 0:00:17.560743\n",
      "Remaining time: 11:49:12.091579, steps: 2424. Time per step: 0:00:17.554493\n",
      "Remaining time: 11:48:39.085878, steps: 2423. Time per step: 0:00:17.548116\n",
      "Remaining time: 11:48:04.524294, steps: 2422. Time per step: 0:00:17.541092\n",
      "Remaining time: 11:47:32.104084, steps: 2421. Time per step: 0:00:17.534946\n",
      "Remaining time: 11:46:57.986304, steps: 2420. Time per step: 0:00:17.528094\n",
      "Remaining time: 11:46:26.381632, steps: 2419. Time per step: 0:00:17.522274\n",
      "Remaining time: 11:45:50.840855, steps: 2418. Time per step: 0:00:17.514823\n",
      "Remaining time: 11:45:42.802602, steps: 2417. Time per step: 0:00:17.518743\n",
      "Remaining time: 11:45:27.190493, steps: 2416. Time per step: 0:00:17.519532\n",
      "Remaining time: 11:45:05.216446, steps: 2415. Time per step: 0:00:17.517688\n",
      "Remaining time: 11:44:37.498417, steps: 2414. Time per step: 0:00:17.513462\n",
      "Remaining time: 11:44:10.522097, steps: 2413. Time per step: 0:00:17.509541\n",
      "Remaining time: 11:43:46.869383, steps: 2412. Time per step: 0:00:17.506994\n",
      "Remaining time: 11:43:22.770201, steps: 2411. Time per step: 0:00:17.504260\n",
      "Remaining time: 11:42:55.746171, steps: 2410. Time per step: 0:00:17.500310\n",
      "Remaining time: 11:42:29.590704, steps: 2409. Time per step: 0:00:17.496717\n",
      "Remaining time: 11:42:04.832680, steps: 2408. Time per step: 0:00:17.493701\n",
      "Remaining time: 11:41:39.902497, steps: 2407. Time per step: 0:00:17.490612\n",
      "Remaining time: 11:41:13.751592, steps: 2406. Time per step: 0:00:17.487012\n",
      "Remaining time: 11:40:45.519666, steps: 2405. Time per step: 0:00:17.482545\n",
      "Remaining time: 11:40:18.779279, steps: 2404. Time per step: 0:00:17.478694\n",
      "Remaining time: 11:39:51.393467, steps: 2403. Time per step: 0:00:17.474571\n",
      "Remaining time: 11:39:26.433165, steps: 2402. Time per step: 0:00:17.471454\n",
      "Remaining time: 11:39:00.279028, steps: 2401. Time per step: 0:00:17.467838\n",
      "Remaining time: 11:38:33.736924, steps: 2400. Time per step: 0:00:17.464057\n",
      "Remaining time: 11:38:08.214741, steps: 2399. Time per step: 0:00:17.460698\n",
      "Remaining time: 11:37:44.322388, steps: 2398. Time per step: 0:00:17.458016\n",
      "Remaining time: 11:37:21.007756, steps: 2397. Time per step: 0:00:17.455573\n",
      "Remaining time: 11:36:54.893734, steps: 2396. Time per step: 0:00:17.451959\n",
      "Remaining time: 11:36:30.654058, steps: 2395. Time per step: 0:00:17.449125\n",
      "Remaining time: 11:36:09.167901, steps: 2394. Time per step: 0:00:17.447439\n",
      "Remaining time: 11:35:50.542685, steps: 2393. Time per step: 0:00:17.446946\n",
      "Remaining time: 11:35:25.556686, steps: 2392. Time per step: 0:00:17.443795\n",
      "Remaining time: 11:35:01.810095, steps: 2391. Time per step: 0:00:17.441159\n",
      "Remaining time: 11:34:38.041608, steps: 2390. Time per step: 0:00:17.438511\n",
      "Remaining time: 11:34:14.076860, steps: 2389. Time per step: 0:00:17.435779\n",
      "Remaining time: 11:33:51.046418, steps: 2388. Time per step: 0:00:17.433437\n",
      "Remaining time: 11:33:24.677591, steps: 2387. Time per step: 0:00:17.429693\n",
      "Remaining time: 11:33:03.533677, steps: 2386. Time per step: 0:00:17.428136\n",
      "Remaining time: 11:32:37.870330, steps: 2385. Time per step: 0:00:17.424684\n",
      "Remaining time: 11:32:23.743119, steps: 2384. Time per step: 0:00:17.426067\n",
      "Remaining time: 11:32:03.417782, steps: 2383. Time per step: 0:00:17.424850\n",
      "Remaining time: 11:31:47.710061, steps: 2382. Time per step: 0:00:17.425571\n",
      "Remaining time: 11:31:31.186813, steps: 2381. Time per step: 0:00:17.425950\n",
      "Remaining time: 11:31:11.658205, steps: 2380. Time per step: 0:00:17.425066\n",
      "Remaining time: 11:30:55.287308, steps: 2379. Time per step: 0:00:17.425510\n",
      "Remaining time: 11:30:41.058003, steps: 2378. Time per step: 0:00:17.426854\n",
      "Remaining time: 11:30:21.237880, steps: 2377. Time per step: 0:00:17.425847\n",
      "Remaining time: 11:30:01.896040, steps: 2376. Time per step: 0:00:17.425040\n",
      "Remaining time: 11:29:45.409428, steps: 2375. Time per step: 0:00:17.425436\n",
      "Remaining time: 11:29:24.895313, steps: 2374. Time per step: 0:00:17.424135\n",
      "Remaining time: 11:29:07.073220, steps: 2373. Time per step: 0:00:17.423967\n",
      "Remaining time: 11:28:47.659776, steps: 2372. Time per step: 0:00:17.423128\n",
      "Remaining time: 11:28:28.710110, steps: 2371. Time per step: 0:00:17.422484\n",
      "Remaining time: 11:28:10.610395, steps: 2370. Time per step: 0:00:17.422198\n",
      "Remaining time: 11:27:47.960270, steps: 2369. Time per step: 0:00:17.419992\n",
      "Remaining time: 11:27:25.141911, steps: 2368. Time per step: 0:00:17.417712\n",
      "Remaining time: 11:27:04.820609, steps: 2367. Time per step: 0:00:17.416485\n",
      "Remaining time: 11:26:42.507461, steps: 2366. Time per step: 0:00:17.414416\n",
      "Remaining time: 11:26:24.546855, steps: 2365. Time per step: 0:00:17.414185\n",
      "Remaining time: 11:26:02.751932, steps: 2364. Time per step: 0:00:17.412332\n",
      "Remaining time: 11:25:48.201040, steps: 2363. Time per step: 0:00:17.413543\n",
      "Remaining time: 11:25:30.038080, steps: 2362. Time per step: 0:00:17.413225\n",
      "Remaining time: 11:25:12.674549, steps: 2361. Time per step: 0:00:17.413246\n",
      "Remaining time: 11:24:54.765292, steps: 2360. Time per step: 0:00:17.413036\n",
      "Remaining time: 11:24:34.966246, steps: 2359. Time per step: 0:00:17.412025\n",
      "Remaining time: 11:24:22.268859, steps: 2358. Time per step: 0:00:17.414024\n",
      "Remaining time: 11:24:07.951747, steps: 2357. Time per step: 0:00:17.415338\n",
      "Remaining time: 11:23:47.747103, steps: 2356. Time per step: 0:00:17.414154\n",
      "Remaining time: 11:23:27.008082, steps: 2355. Time per step: 0:00:17.412742\n",
      "Remaining time: 11:23:15.620246, steps: 2354. Time per step: 0:00:17.415302\n",
      "Remaining time: 11:22:47.919568, steps: 2353. Time per step: 0:00:17.410931\n",
      "Remaining time: 11:22:19.102771, steps: 2352. Time per step: 0:00:17.406081\n",
      "Remaining time: 11:21:54.232411, steps: 2351. Time per step: 0:00:17.402906\n",
      "Remaining time: 11:21:25.521778, steps: 2350. Time per step: 0:00:17.398094\n",
      "Remaining time: 11:20:57.082484, steps: 2349. Time per step: 0:00:17.393394\n",
      "Remaining time: 11:20:40.698028, steps: 2348. Time per step: 0:00:17.393824\n",
      "Remaining time: 11:20:35.153544, steps: 2347. Time per step: 0:00:17.398872\n",
      "Remaining time: 11:20:15.365624, steps: 2346. Time per step: 0:00:17.397854\n",
      "Remaining time: 11:20:00.923049, steps: 2345. Time per step: 0:00:17.399114\n",
      "Remaining time: 11:19:36.586551, steps: 2344. Time per step: 0:00:17.396155\n",
      "Remaining time: 11:19:07.946275, steps: 2343. Time per step: 0:00:17.391356\n",
      "Remaining time: 11:18:43.380374, steps: 2342. Time per step: 0:00:17.388292\n",
      "Remaining time: 11:18:26.926087, steps: 2341. Time per step: 0:00:17.388691\n",
      "Remaining time: 11:18:11.731180, steps: 2340. Time per step: 0:00:17.389629\n",
      "Remaining time: 11:18:09.475864, steps: 2339. Time per step: 0:00:17.396099\n",
      "Remaining time: 11:17:52.881236, steps: 2338. Time per step: 0:00:17.396442\n",
      "Remaining time: 11:18:05.623242, steps: 2337. Time per step: 0:00:17.409338\n",
      "Remaining time: 11:18:23.344277, steps: 2336. Time per step: 0:00:17.424377\n",
      "Remaining time: 11:18:26.448115, steps: 2335. Time per step: 0:00:17.433168\n",
      "Remaining time: 11:18:44.320046, steps: 2334. Time per step: 0:00:17.448295\n",
      "Remaining time: 11:18:55.868122, steps: 2333. Time per step: 0:00:17.460724\n",
      "Remaining time: 11:18:57.507199, steps: 2332. Time per step: 0:00:17.468914\n",
      "Remaining time: 11:19:13.369649, steps: 2331. Time per step: 0:00:17.483213\n",
      "Remaining time: 11:19:27.066914, steps: 2330. Time per step: 0:00:17.496595\n",
      "Remaining time: 11:19:32.806815, steps: 2329. Time per step: 0:00:17.506572\n",
      "Remaining time: 11:19:43.255944, steps: 2328. Time per step: 0:00:17.518581\n",
      "Remaining time: 11:19:45.490859, steps: 2327. Time per step: 0:00:17.527070\n",
      "Remaining time: 11:19:44.339956, steps: 2326. Time per step: 0:00:17.534110\n",
      "Remaining time: 11:19:45.733788, steps: 2325. Time per step: 0:00:17.542251\n",
      "Remaining time: 11:19:47.497126, steps: 2324. Time per step: 0:00:17.550558\n",
      "Remaining time: 11:19:40.769829, steps: 2323. Time per step: 0:00:17.555217\n",
      "Remaining time: 11:19:35.414773, steps: 2322. Time per step: 0:00:17.560471\n",
      "Remaining time: 11:19:28.994559, steps: 2321. Time per step: 0:00:17.565271\n",
      "Remaining time: 11:19:21.787739, steps: 2320. Time per step: 0:00:17.569736\n",
      "Remaining time: 11:19:16.057247, steps: 2319. Time per step: 0:00:17.574841\n",
      "Remaining time: 11:19:06.423744, steps: 2318. Time per step: 0:00:17.578267\n",
      "Remaining time: 11:18:55.856589, steps: 2317. Time per step: 0:00:17.581293\n",
      "Remaining time: 11:18:46.492388, steps: 2316. Time per step: 0:00:17.584841\n",
      "Remaining time: 11:18:33.197987, steps: 2315. Time per step: 0:00:17.586695\n",
      "Remaining time: 11:18:18.607658, steps: 2314. Time per step: 0:00:17.587989\n",
      "Remaining time: 11:18:07.656092, steps: 2313. Time per step: 0:00:17.590859\n",
      "Remaining time: 11:17:52.960275, steps: 2312. Time per step: 0:00:17.592111\n",
      "Remaining time: 11:17:37.532442, steps: 2311. Time per step: 0:00:17.593047\n",
      "Remaining time: 11:17:19.365548, steps: 2310. Time per step: 0:00:17.592799\n",
      "Remaining time: 11:17:16.092573, steps: 2309. Time per step: 0:00:17.599001\n",
      "Remaining time: 11:17:07.314669, steps: 2308. Time per step: 0:00:17.602823\n",
      "Remaining time: 11:17:03.257875, steps: 2307. Time per step: 0:00:17.608694\n",
      "Remaining time: 11:16:57.605058, steps: 2306. Time per step: 0:00:17.613879\n",
      "Remaining time: 11:16:49.874425, steps: 2305. Time per step: 0:00:17.618167\n",
      "Remaining time: 11:16:42.817379, steps: 2304. Time per step: 0:00:17.622751\n",
      "Remaining time: 11:16:34.616949, steps: 2303. Time per step: 0:00:17.626842\n",
      "Remaining time: 11:16:25.792394, steps: 2302. Time per step: 0:00:17.630666\n",
      "Remaining time: 11:16:18.211218, steps: 2301. Time per step: 0:00:17.635033\n",
      "Remaining time: 11:16:06.235964, steps: 2300. Time per step: 0:00:17.637494\n",
      "Remaining time: 11:15:51.872128, steps: 2299. Time per step: 0:00:17.638918\n",
      "Remaining time: 11:15:39.417146, steps: 2298. Time per step: 0:00:17.641174\n",
      "Remaining time: 11:15:23.143023, steps: 2297. Time per step: 0:00:17.641769\n",
      "Remaining time: 11:15:06.591190, steps: 2296. Time per step: 0:00:17.642244\n",
      "Remaining time: 11:14:51.477238, steps: 2295. Time per step: 0:00:17.643345\n",
      "Remaining time: 11:14:22.992468, steps: 2294. Time per step: 0:00:17.638619\n",
      "Remaining time: 11:13:51.705564, steps: 2293. Time per step: 0:00:17.632667\n",
      "Remaining time: 11:13:23.589418, steps: 2292. Time per step: 0:00:17.628093\n",
      "Remaining time: 11:12:54.806714, steps: 2291. Time per step: 0:00:17.623224\n",
      "Remaining time: 11:12:25.576340, steps: 2290. Time per step: 0:00:17.618156\n",
      "Remaining time: 11:11:55.847540, steps: 2289. Time per step: 0:00:17.612865\n",
      "Remaining time: 11:11:26.588841, steps: 2288. Time per step: 0:00:17.607775\n",
      "Remaining time: 11:10:58.663692, steps: 2287. Time per step: 0:00:17.603264\n",
      "Remaining time: 11:10:30.399555, steps: 2286. Time per step: 0:00:17.598600\n",
      "Remaining time: 11:10:01.530640, steps: 2285. Time per step: 0:00:17.593668\n",
      "Remaining time: 11:09:31.821270, steps: 2284. Time per step: 0:00:17.588363\n",
      "Remaining time: 11:09:05.108241, steps: 2283. Time per step: 0:00:17.584366\n",
      "Remaining time: 11:08:36.162784, steps: 2282. Time per step: 0:00:17.579388\n",
      "Remaining time: 11:08:06.565490, steps: 2281. Time per step: 0:00:17.574119\n",
      "Remaining time: 11:07:38.378472, steps: 2280. Time per step: 0:00:17.569464\n",
      "Remaining time: 11:07:06.955815, steps: 2279. Time per step: 0:00:17.563386\n",
      "Remaining time: 11:06:35.812547, steps: 2278. Time per step: 0:00:17.557424\n",
      "Remaining time: 11:06:04.623051, steps: 2277. Time per step: 0:00:17.551437\n",
      "Remaining time: 11:05:34.415737, steps: 2276. Time per step: 0:00:17.545877\n",
      "Remaining time: 11:05:04.624900, steps: 2275. Time per step: 0:00:17.540494\n",
      "Remaining time: 11:04:32.769987, steps: 2274. Time per step: 0:00:17.534200\n",
      "Remaining time: 11:04:02.996560, steps: 2273. Time per step: 0:00:17.528815\n",
      "Remaining time: 11:03:31.916924, steps: 2272. Time per step: 0:00:17.522851\n",
      "Remaining time: 11:03:00.154051, steps: 2271. Time per step: 0:00:17.516580\n",
      "Remaining time: 11:02:30.247162, steps: 2270. Time per step: 0:00:17.511122\n",
      "Remaining time: 11:01:59.712718, steps: 2269. Time per step: 0:00:17.505382\n",
      "Remaining time: 11:01:28.672530, steps: 2268. Time per step: 0:00:17.499415\n",
      "Remaining time: 11:01:07.282504, steps: 2267. Time per step: 0:00:17.497699\n",
      "Remaining time: 11:01:01.078348, steps: 2266. Time per step: 0:00:17.502682\n",
      "Remaining time: 11:00:50.471849, steps: 2265. Time per step: 0:00:17.505727\n",
      "Remaining time: 11:00:38.133944, steps: 2264. Time per step: 0:00:17.508010\n",
      "Remaining time: 11:00:35.309699, steps: 2263. Time per step: 0:00:17.514498\n",
      "Remaining time: 11:00:10.997820, steps: 2262. Time per step: 0:00:17.511493\n",
      "Remaining time: 10:59:45.952648, steps: 2261. Time per step: 0:00:17.508161\n",
      "Remaining time: 10:59:16.634510, steps: 2260. Time per step: 0:00:17.502936\n",
      "Remaining time: 10:58:47.604677, steps: 2259. Time per step: 0:00:17.497833\n",
      "Remaining time: 10:58:24.686559, steps: 2258. Time per step: 0:00:17.495432\n",
      "Remaining time: 10:58:02.832118, steps: 2257. Time per step: 0:00:17.493501\n",
      "Remaining time: 10:57:35.508808, steps: 2256. Time per step: 0:00:17.489144\n",
      "Remaining time: 10:57:17.008782, steps: 2255. Time per step: 0:00:17.488696\n",
      "Remaining time: 10:56:50.603634, steps: 2254. Time per step: 0:00:17.484740\n",
      "Remaining time: 10:56:23.978966, steps: 2253. Time per step: 0:00:17.480683\n",
      "Remaining time: 10:55:54.415751, steps: 2252. Time per step: 0:00:17.475318\n",
      "Remaining time: 10:55:27.854965, steps: 2251. Time per step: 0:00:17.471282\n",
      "Remaining time: 10:55:00.849656, steps: 2250. Time per step: 0:00:17.467044\n",
      "Remaining time: 10:54:39.292991, steps: 2249. Time per step: 0:00:17.465226\n",
      "Remaining time: 10:54:21.070247, steps: 2248. Time per step: 0:00:17.464889\n",
      "Remaining time: 10:53:59.268659, steps: 2247. Time per step: 0:00:17.462959\n",
      "Remaining time: 10:53:37.108361, steps: 2246. Time per step: 0:00:17.460867\n",
      "Remaining time: 10:53:14.069714, steps: 2245. Time per step: 0:00:17.458383\n",
      "Remaining time: 10:52:57.365795, steps: 2244. Time per step: 0:00:17.458719\n",
      "Remaining time: 10:52:34.583084, steps: 2243. Time per step: 0:00:17.456346\n",
      "Remaining time: 10:52:11.774507, steps: 2242. Time per step: 0:00:17.453958\n",
      "Remaining time: 10:51:48.964056, steps: 2241. Time per step: 0:00:17.451568\n"
     ]
    }
   ],
   "source": [
    "nn_fc_cv = SKFlowGridSearchCV(lambda:skflow.TensorFlowDNNClassifier(hidden_units=[100], n_classes=2), nn_fc_params_grid)\n",
    "nn_fc_cv.fit(X['tr'], pdl.labels['fc']['tr'])"
   ]
  },
  {
   "cell_type": "code",
   "execution_count": 230,
   "metadata": {
    "collapsed": false
   },
   "outputs": [
    {
     "name": "stdout",
     "output_type": "stream",
     "text": [
      "{'continue_training': False, 'optimizer': 'Adam', 'verbose': 0, 'dropout': 0.25, 'batch_size': 100, 'steps': 5000, 'n_classes': 2, 'hidden_units': (50, 100, 200), 'learning_rate': 0.001}\n"
     ]
    }
   ],
   "source": [
    "print nn_fc_cv.best_params_"
   ]
  },
  {
   "cell_type": "code",
   "execution_count": 231,
   "metadata": {
    "collapsed": false
   },
   "outputs": [
    {
     "name": "stdout",
     "output_type": "stream",
     "text": [
      "0.776536312849\n"
     ]
    }
   ],
   "source": [
    "clf.predict_proba"
   ]
  },
  {
   "cell_type": "markdown",
   "metadata": {},
   "source": [
    "### DNN For Regression"
   ]
  },
  {
   "cell_type": "code",
   "execution_count": 19,
   "metadata": {
    "collapsed": false
   },
   "outputs": [],
   "source": [
    "reg = skflow.TensorFlowDNNRegressor(hidden_units=[500, 200], batch_size=batch_size, steps=5000,\n",
    "                                    optimizer=\"Adam\", learning_rate=0.001, dropout=0.25, continue_training=True)"
   ]
  },
  {
   "cell_type": "code",
   "execution_count": 21,
   "metadata": {
    "collapsed": false
   },
   "outputs": [
    {
     "ename": "KeyError",
     "evalue": "'pfc_10'",
     "output_type": "error",
     "traceback": [
      "\u001b[1;31m---------------------------------------------------------------------------\u001b[0m",
      "\u001b[1;31mKeyError\u001b[0m                                  Traceback (most recent call last)",
      "\u001b[1;32m<ipython-input-21-939774c02025>\u001b[0m in \u001b[0;36m<module>\u001b[1;34m()\u001b[0m\n\u001b[1;32m----> 1\u001b[1;33m \u001b[0mreg\u001b[0m\u001b[1;33m.\u001b[0m\u001b[0mfit\u001b[0m\u001b[1;33m(\u001b[0m\u001b[0mpdl\u001b[0m\u001b[1;33m.\u001b[0m\u001b[0mtr\u001b[0m\u001b[1;33m,\u001b[0m \u001b[0mpdl\u001b[0m\u001b[1;33m.\u001b[0m\u001b[0mlabels\u001b[0m\u001b[1;33m[\u001b[0m\u001b[1;34m'pfc_10'\u001b[0m\u001b[1;33m]\u001b[0m\u001b[1;33m[\u001b[0m\u001b[1;34m'tr'\u001b[0m\u001b[1;33m]\u001b[0m\u001b[1;33m)\u001b[0m\u001b[1;33m\u001b[0m\u001b[0m\n\u001b[0m",
      "\u001b[1;31mKeyError\u001b[0m: 'pfc_10'"
     ]
    }
   ],
   "source": [
    "reg.fit(pdl.tr, pdl.labels['pfc_10']['tr'])"
   ]
  },
  {
   "cell_type": "code",
   "execution_count": 22,
   "metadata": {
    "collapsed": false
   },
   "outputs": [
    {
     "name": "stdout",
     "output_type": "stream",
     "text": [
      "DNN Regression PFC train accuracy 0.775900502456, test accuracy 0.747592332814\n"
     ]
    }
   ],
   "source": [
    "PatchesSKLearner.print_accuracy(reg, pdl.tr, pdl.labels['pfc_10']['tr'], pdl.t, pdl.labels['pfc_10']['t'], \"DNN Regression PFC\")"
   ]
  },
  {
   "cell_type": "code",
   "execution_count": 23,
   "metadata": {
    "collapsed": false
   },
   "outputs": [
    {
     "name": "stdout",
     "output_type": "stream",
     "text": [
      "DNN Regression PFC mse train mse 0.0228855780185, test mse 0.0254127871325\n"
     ]
    }
   ],
   "source": [
    "PatchesSKLearner.print_mse(reg, pdl.tr, pdl.labels['pfc_10']['tr'], pdl.t, pdl.labels['pfc_10']['t'], \"DNN Regression PFC mse\")"
   ]
  },
  {
   "cell_type": "code",
   "execution_count": 56,
   "metadata": {
    "collapsed": false
   },
   "outputs": [],
   "source": [
    "all_ferrari = np.r_[pdl.labels['ferrari']['tr'], pdl.labels['ferrari']['t']]\n",
    "n_ferrari_tr = pdl.labels['ferrari']['tr'].shape[0]\n",
    "ferrari_mean, ferrari_std = np.mean(all_ferrari), np.std(all_ferrari)\n",
    "all_ferrari_normalized = (all_ferrari - ferrari_mean) / ferrari_std"
   ]
  },
  {
   "cell_type": "code",
   "execution_count": 57,
   "metadata": {
    "collapsed": true
   },
   "outputs": [],
   "source": [
    "ferrari_normalized_tr = all_ferrari_normalized[:n_ferrari_tr]\n",
    "ferrari_normalized_t = all_ferrari_normalized[n_ferrari_tr:]"
   ]
  },
  {
   "cell_type": "code",
   "execution_count": 60,
   "metadata": {
    "collapsed": true
   },
   "outputs": [],
   "source": [
    "reg_ferrari = skflow.TensorFlowDNNRegressor(hidden_units=[500, 200], batch_size=batch_size, steps=5000,\n",
    "                                    optimizer=\"Adam\", learning_rate=0.001, dropout=0.25, continue_training=True)"
   ]
  },
  {
   "cell_type": "code",
   "execution_count": 61,
   "metadata": {
    "collapsed": false,
    "scrolled": true
   },
   "outputs": [
    {
     "name": "stdout",
     "output_type": "stream",
     "text": [
      "Step #100, epoch #4, avg. train loss: 0.48840\n",
      "Step #200, epoch #9, avg. train loss: 0.43664\n",
      "Step #300, epoch #13, avg. train loss: 0.41896\n",
      "Step #400, epoch #18, avg. train loss: 0.40423\n",
      "Step #500, epoch #22, avg. train loss: 0.39277\n",
      "Step #600, epoch #27, avg. train loss: 0.38682\n",
      "Step #700, epoch #31, avg. train loss: 0.37682\n",
      "Step #800, epoch #36, avg. train loss: 0.36997\n",
      "Step #900, epoch #40, avg. train loss: 0.36687\n",
      "Step #1000, epoch #45, avg. train loss: 0.35941\n",
      "Step #1100, epoch #50, avg. train loss: 0.35468\n",
      "Step #1200, epoch #54, avg. train loss: 0.34959\n",
      "Step #1300, epoch #59, avg. train loss: 0.35008\n",
      "Step #1400, epoch #63, avg. train loss: 0.34232\n",
      "Step #1500, epoch #68, avg. train loss: 0.33779\n",
      "Step #1600, epoch #72, avg. train loss: 0.32967\n",
      "Step #1700, epoch #77, avg. train loss: 0.33234\n",
      "Step #1800, epoch #81, avg. train loss: 0.32764\n",
      "Step #1900, epoch #86, avg. train loss: 0.32361\n",
      "Step #2000, epoch #90, avg. train loss: 0.32120\n",
      "Step #2100, epoch #95, avg. train loss: 0.31596\n",
      "Step #2200, epoch #100, avg. train loss: 0.31215\n",
      "Step #2300, epoch #104, avg. train loss: 0.30994\n",
      "Step #2400, epoch #109, avg. train loss: 0.30851\n",
      "Step #2500, epoch #113, avg. train loss: 0.30000\n",
      "Step #2600, epoch #118, avg. train loss: 0.29304\n",
      "Step #2700, epoch #122, avg. train loss: 0.29849\n",
      "Step #2800, epoch #127, avg. train loss: 0.29075\n",
      "Step #2900, epoch #131, avg. train loss: 0.28860\n",
      "Step #3000, epoch #136, avg. train loss: 0.27997\n",
      "Step #3100, epoch #140, avg. train loss: 0.27983\n",
      "Step #3200, epoch #145, avg. train loss: 0.27756\n",
      "Step #3300, epoch #150, avg. train loss: 0.27622\n",
      "Step #3400, epoch #154, avg. train loss: 0.26939\n",
      "Step #3500, epoch #159, avg. train loss: 0.27187\n",
      "Step #3600, epoch #163, avg. train loss: 0.26315\n",
      "Step #3700, epoch #168, avg. train loss: 0.26451\n",
      "Step #3800, epoch #172, avg. train loss: 0.25885\n",
      "Step #3900, epoch #177, avg. train loss: 0.25813\n",
      "Step #4000, epoch #181, avg. train loss: 0.25351\n",
      "Step #4100, epoch #186, avg. train loss: 0.25194\n",
      "Step #4200, epoch #190, avg. train loss: 0.25376\n",
      "Step #4300, epoch #195, avg. train loss: 0.24733\n",
      "Step #4400, epoch #200, avg. train loss: 0.24353\n",
      "Step #4500, epoch #204, avg. train loss: 0.24457\n",
      "Step #4600, epoch #209, avg. train loss: 0.23883\n",
      "Step #4700, epoch #213, avg. train loss: 0.23185\n",
      "Step #4800, epoch #218, avg. train loss: 0.23460\n",
      "Step #4900, epoch #222, avg. train loss: 0.22829\n",
      "Step #5000, epoch #227, avg. train loss: 0.22515\n"
     ]
    },
    {
     "data": {
      "text/plain": [
       "TensorFlowDNNRegressor(batch_size=100, clip_gradients=5.0, config=None,\n",
       "            continue_training=True, dropout=0.25, hidden_units=[500, 200],\n",
       "            learning_rate=0.001, n_classes=0, optimizer='Adam', steps=5000,\n",
       "            verbose=1)"
      ]
     },
     "execution_count": 61,
     "metadata": {},
     "output_type": "execute_result"
    }
   ],
   "source": [
    "reg_ferrari.fit(X['tr'], ferrari_normalized_tr)"
   ]
  },
  {
   "cell_type": "code",
   "execution_count": 63,
   "metadata": {
    "collapsed": false
   },
   "outputs": [
    {
     "name": "stdout",
     "output_type": "stream",
     "text": [
      "DNN Regression Ferrari Canny Normalized train accuracy 0.611247086652, test accuracy 0.243951896547\n"
     ]
    }
   ],
   "source": [
    "PatchesSKLearner.print_accuracy(reg_ferrari, X['tr'], ferrari_normalized_tr, X['t'], \n",
    "                                ferrari_normalized_t, \"DNN Regression Ferrari Canny Normalized\")"
   ]
  },
  {
   "cell_type": "code",
   "execution_count": 64,
   "metadata": {
    "collapsed": false
   },
   "outputs": [
    {
     "name": "stdout",
     "output_type": "stream",
     "text": [
      "DNN Regression Ferrari Canny Normalized mse train mse 0.388062952178, test mse 0.759942829183\n"
     ]
    }
   ],
   "source": [
    "PatchesSKLearner.print_mse(reg_ferrari, X['tr'], ferrari_normalized_tr, X['t'], \n",
    "                                ferrari_normalized_t, \"DNN Regression Ferrari Canny Normalized mse\")"
   ]
  },
  {
   "cell_type": "code",
   "execution_count": 66,
   "metadata": {
    "collapsed": false
   },
   "outputs": [],
   "source": [
    "ferrari_preds_normalized_tr = reg_ferrari.predict(X['tr'])\n",
    "ferrari_preds_normalized_t = reg_ferrari.predict(X['t'])\n",
    "\n",
    "ferrari_preds_tr = (ferrari_preds_normalized_tr * ferrari_std) + ferrari_mean\n",
    "ferrari_preds_t = (ferrari_preds_normalized_t * ferrari_std) + ferrari_mean"
   ]
  },
  {
   "cell_type": "code",
   "execution_count": 30,
   "metadata": {
    "collapsed": false
   },
   "outputs": [],
   "source": [
    "ferrari_preds_tr = (ferrari_preds_normalized_tr * ferrari_std) + ferrari_mean\n",
    "ferrari_preds_t = (ferrari_preds_normalized_t * ferrari_std) + ferrari_mean"
   ]
  },
  {
   "cell_type": "code",
   "execution_count": 67,
   "metadata": {
    "collapsed": false
   },
   "outputs": [
    {
     "name": "stdout",
     "output_type": "stream",
     "text": [
      "DNN Regression Ferrari Canny train 0.611247094, test 0.243951889254\n"
     ]
    }
   ],
   "source": [
    "print \"{0} train {1}, test {2}\".format(\"DNN Regression Ferrari Canny\", \n",
    "                                               r2_score(pdl.labels['ferrari']['tr'], ferrari_preds_tr), \n",
    "                                               r2_score(pdl.labels['ferrari']['t'], ferrari_preds_t))"
   ]
  },
  {
   "cell_type": "code",
   "execution_count": 68,
   "metadata": {
    "collapsed": false
   },
   "outputs": [
    {
     "name": "stdout",
     "output_type": "stream",
     "text": [
      "DNN Regression Ferrari Canny train mse 3.48378707123e-08, test mse 6.82229278498e-08\n"
     ]
    }
   ],
   "source": [
    "print \"{0} train mse {1}, test mse {2}\".format(\"DNN Regression Ferrari Canny\", \n",
    "                                               mean_squared_error(pdl.labels['ferrari']['tr'], ferrari_preds_tr), \n",
    "                                               mean_squared_error(pdl.labels['ferrari']['t'], ferrari_preds_t))"
   ]
  },
  {
   "cell_type": "code",
   "execution_count": null,
   "metadata": {
    "collapsed": true
   },
   "outputs": [],
   "source": []
  }
 ],
 "metadata": {
  "kernelspec": {
   "display_name": "Python 2",
   "language": "python",
   "name": "python2"
  },
  "language_info": {
   "codemirror_mode": {
    "name": "ipython",
    "version": 2
   },
   "file_extension": ".py",
   "mimetype": "text/x-python",
   "name": "python",
   "nbconvert_exporter": "python",
   "pygments_lexer": "ipython2",
   "version": "2.7.6"
  }
 },
 "nbformat": 4,
 "nbformat_minor": 0
}
