{
 "cells": [
  {
   "cell_type": "markdown",
   "metadata": {},
   "source": [
    "## Patches Experiment with Dex-Net\n",
    "\n",
    "Goals:\n",
    "* ~~Familiarize with data format~~\n",
    "* ~~Run simple classifier~~\n",
    "* ~~Design experiment workflow~~\n",
    "\n",
    "Notes:\n",
    "* Each data array has 46504 samples\n",
    "* Moment arms is R6 wrench"
   ]
  },
  {
   "cell_type": "code",
   "execution_count": 1,
   "metadata": {
    "collapsed": false
   },
   "outputs": [
    {
     "name": "stderr",
     "output_type": "stream",
     "text": [
      "/home/jacky/anaconda2/lib/python2.7/site-packages/sklearn/qda.py:4: DeprecationWarning: qda.QDA has been moved to discriminant_analysis.QuadraticDiscriminantAnalysis in 0.17 and will be removed in 0.19.\n",
      "  \"in 0.17 and will be removed in 0.19.\", DeprecationWarning)\n"
     ]
    }
   ],
   "source": [
    "#global imports\n",
    "import numpy as np\n",
    "from sklearn.svm import SVC\n",
    "from sklearn.metrics import zero_one_loss, log_loss\n",
    "from sklearn import linear_model\n",
    "from sklearn.tree import DecisionTreeClassifier, DecisionTreeRegressor\n",
    "from sklearn.ensemble import RandomForestClassifier, RandomForestRegressor\n",
    "from sklearn.qda import QDA\n",
    "import matplotlib.pyplot as plt\n",
    "%matplotlib inline"
   ]
  },
  {
   "cell_type": "code",
   "execution_count": 2,
   "metadata": {
    "collapsed": false
   },
   "outputs": [],
   "source": [
    "from util import PatchesDataLoader, PatchesSKLearner"
   ]
  },
  {
   "cell_type": "code",
   "execution_count": 19,
   "metadata": {
    "collapsed": true
   },
   "outputs": [],
   "source": [
    "data_path = '/home/jacky/ws/patches/data/'"
   ]
  },
  {
   "cell_type": "code",
   "execution_count": 20,
   "metadata": {
    "collapsed": false
   },
   "outputs": [],
   "source": [
    "pdl = PatchesDataLoader(0.25, data_path, [i for i in range(1)])"
   ]
  },
  {
   "cell_type": "code",
   "execution_count": 11,
   "metadata": {
    "collapsed": false
   },
   "outputs": [
    {
     "name": "stdout",
     "output_type": "stream",
     "text": [
      "QDA train accuracy 0.870654488289, test accuracy 0.871466523387\n"
     ]
    },
    {
     "name": "stderr",
     "output_type": "stream",
     "text": [
      "/home/jacky/anaconda2/lib/python2.7/site-packages/sklearn/discriminant_analysis.py:688: UserWarning: Variables are collinear\n",
      "  warnings.warn(\"Variables are collinear\")\n"
     ]
    },
    {
     "data": {
      "text/plain": [
       "QuadraticDiscriminantAnalysis(priors=None, reg_param=0.0,\n",
       "               store_covariances=False, tol=0.0001)"
      ]
     },
     "execution_count": 11,
     "metadata": {},
     "output_type": "execute_result"
    }
   ],
   "source": [
    "#QDA on fc\n",
    "PatchesSKLearner.train(QDA, pdl.tr, pdl.labels['fc']['tr'], pdl.t, pdl.labels['fc']['t'], \"QDA\")"
   ]
  },
  {
   "cell_type": "code",
   "execution_count": 12,
   "metadata": {
    "collapsed": false
   },
   "outputs": [
    {
     "name": "stdout",
     "output_type": "stream",
     "text": [
      "Logistic Regression train accuracy 0.906423497105, test accuracy 0.907256499806\n"
     ]
    },
    {
     "data": {
      "text/plain": [
       "LogisticRegression(C=1.0, class_weight=None, dual=False, fit_intercept=True,\n",
       "          intercept_scaling=1, max_iter=100, multi_class='ovr', n_jobs=1,\n",
       "          penalty='l2', random_state=None, solver='liblinear', tol=0.0001,\n",
       "          verbose=0, warm_start=False)"
      ]
     },
     "execution_count": 12,
     "metadata": {},
     "output_type": "execute_result"
    }
   ],
   "source": [
    "#logistic regression on fc\n",
    "PatchesSKLearner.train(linear_model.LogisticRegression, pdl.tr, pdl.labels['fc']['tr'], pdl.t, \n",
    "                       pdl.labels['fc']['t'], \"Logistic Regression\")"
   ]
  },
  {
   "cell_type": "code",
   "execution_count": 13,
   "metadata": {
    "collapsed": false
   },
   "outputs": [
    {
     "name": "stdout",
     "output_type": "stream",
     "text": [
      "Random Forest Clf train accuracy 0.995572403638, test accuracy 0.93594221068\n"
     ]
    },
    {
     "data": {
      "text/plain": [
       "RandomForestClassifier(bootstrap=True, class_weight=None, criterion='gini',\n",
       "            max_depth=None, max_features='auto', max_leaf_nodes=None,\n",
       "            min_samples_leaf=1, min_samples_split=2,\n",
       "            min_weight_fraction_leaf=0.0, n_estimators=10, n_jobs=1,\n",
       "            oob_score=False, random_state=None, verbose=0,\n",
       "            warm_start=False)"
      ]
     },
     "execution_count": 13,
     "metadata": {},
     "output_type": "execute_result"
    }
   ],
   "source": [
    "PatchesSKLearner.train(RandomForestClassifier, pdl.tr, pdl.labels['fc']['tr'], pdl.t, pdl.labels['fc']['t'], \"Random Forest Clf\")"
   ]
  },
  {
   "cell_type": "code",
   "execution_count": 7,
   "metadata": {
    "collapsed": true
   },
   "outputs": [],
   "source": [
    "#analytical fc prediction using approx patch normals\n",
    "X_w1_normals = pdl.get_partial_train_data(('w1_normal',))\n",
    "X_w2_normals = pdl.get_partial_train_data(('w2_normal',))"
   ]
  },
  {
   "cell_type": "code",
   "execution_count": 8,
   "metadata": {
    "collapsed": false
   },
   "outputs": [],
   "source": [
    "def predict_single_approx_normals(w1, w2, mu = 0.5):\n",
    "    alpha = np.arctan(mu)\n",
    "    \n",
    "    z1 = w1[2]\n",
    "    z2 = w2[2]\n",
    "    \n",
    "    return np.arccos(-z1) < alpha and np.arccos(-z2) < alpha\n",
    "\n",
    "def predict_approx_normals(W1, W2):\n",
    "    n = W1.shape[0]\n",
    "    results = []\n",
    "    for i in range(n):\n",
    "        results.append(predict_single_approx_normals(W1[i], W2[i]))\n",
    "    return np.array(results)"
   ]
  },
  {
   "cell_type": "code",
   "execution_count": 9,
   "metadata": {
    "collapsed": false
   },
   "outputs": [],
   "source": [
    "approx_normal_tr_preds = predict_approx_normals(X_w1_normals['tr'], X_w2_normals['tr'])\n",
    "approx_normal_t_preds = predict_approx_normals(X_w1_normals['t'], X_w2_normals['t'])"
   ]
  },
  {
   "cell_type": "code",
   "execution_count": 10,
   "metadata": {
    "collapsed": false
   },
   "outputs": [
    {
     "name": "stdout",
     "output_type": "stream",
     "text": [
      "train loss 0.100561160528\n",
      "test loss 0.0998179158831\n"
     ]
    }
   ],
   "source": [
    "print \"train loss\", zero_one_loss(approx_normal_tr_preds, pdl.labels['fc']['tr'], normalize=True)\n",
    "print \"test loss\", zero_one_loss(approx_normal_t_preds, pdl.labels['fc']['t'], normalize=True)"
   ]
  },
  {
   "cell_type": "raw",
   "metadata": {
    "collapsed": false
   },
   "source": [
    "#NOT UPDATED TO NEW PATCHES DATA LOADER\n",
    "#feature selection\n",
    "fts = [\n",
    "    ('moment arms', moment_arms),\n",
    "    ('patch orientation', patch_ori.reshape(-1, 18)),\n",
    "    ('w1 projection', w1_proj),\n",
    "    ('w2 projection', w2_proj)\n",
    "]"
   ]
  },
  {
   "cell_type": "raw",
   "metadata": {
    "collapsed": false
   },
   "source": [
    "predictors = [\n",
    "    (\"QDA\", QDA),\n",
    "    (\"Logistic Regression\", linear_model.LogisticRegression),\n",
    "    (\"Random Forest\", RandomForestClassifier),\n",
    "]"
   ]
  },
  {
   "cell_type": "raw",
   "metadata": {
    "collapsed": false
   },
   "source": [
    "def combos(lst):\n",
    "    n = len(lst)\n",
    "    combos = n*(n+1)/2 + 2\n",
    "    result = []\n",
    "    \n",
    "    for i in range(1, combos):\n",
    "        flags = bin(i)[2:][::-1]\n",
    "        include = []\n",
    "        print i, flags\n",
    "        for j, flag in enumerate(flags):\n",
    "            if flag == '1':\n",
    "                include.append(lst[j])\n",
    "        result.append(include)\n",
    "    \n",
    "    return result"
   ]
  },
  {
   "cell_type": "raw",
   "metadata": {
    "collapsed": true
   },
   "source": [
    "#NOT UPDATED TO NEW PATCHES DATA LOADER\n",
    "def brute_force_subset_selection(fts, predictors, tr_labels, t_labels, t_ratio, indices):\n",
    "    ft_combos = combos(fts)\n",
    "    for ft_combo in ft_combos:\n",
    "        ft_names = [ft_combo[0][0]]\n",
    "        X = ft_combo[0][1]\n",
    "        for i in range(1, len(ft_combo)):\n",
    "            ft_names.append(ft_combo[i][0])\n",
    "            X = np.c_[ft_combo[i][1]]\n",
    "            \n",
    "        X_tr, X_t, _ = split_train_test(X, t_ratio, indices)\n",
    "        print ft_names\n",
    "        for name, predictor in predictors:\n",
    "            train(predictor, X_tr, tr_labels, X_t, t_labels, name)"
   ]
  },
  {
   "cell_type": "raw",
   "metadata": {
    "collapsed": false
   },
   "source": [
    "brute_force_subset_selection(fts, predictors, fc_tr, fc_t, 0.25, indices)"
   ]
  },
  {
   "cell_type": "code",
   "execution_count": 120,
   "metadata": {
    "collapsed": false
   },
   "outputs": [
    {
     "name": "stdout",
     "output_type": "stream",
     "text": [
      "min img [ 1.  0.] 0\n"
     ]
    },
    {
     "data": {
      "text/plain": [
       "<matplotlib.image.AxesImage at 0x7f5217e3f890>"
      ]
     },
     "execution_count": 120,
     "metadata": {},
     "output_type": "execute_result"
    },
    {
     "data": {
      "image/png": "[encoded data removed]",
      "text/plain": [
       "<matplotlib.figure.Figure at 0x7f521770b110>"
      ]
     },
     "metadata": {},
     "output_type": "display_data"
    }
   ],
   "source": [
    "min_img_i = 250\n",
    "print 'min img', preds_all[min_img_i], fc[min_img_i]\n",
    "plt.imshow(w1_proj[min_img_i].reshape(15, 15), cmap='gray')"
   ]
  },
  {
   "cell_type": "code",
   "execution_count": 121,
   "metadata": {
    "collapsed": false
   },
   "outputs": [
    {
     "data": {
      "text/plain": [
       "<matplotlib.image.AxesImage at 0x7f523ebbb150>"
      ]
     },
     "execution_count": 121,
     "metadata": {},
     "output_type": "execute_result"
    },
    {
     "data": {
      "image/png": "[encoded data removed]",
      "text/plain": [
       "<matplotlib.figure.Figure at 0x7f5217f26e90>"
      ]
     },
     "metadata": {},
     "output_type": "display_data"
    }
   ],
   "source": [
    "plt.imshow(w2_proj[min_img_i].reshape(15, 15), cmap='gray')"
   ]
  },
  {
   "cell_type": "code",
   "execution_count": null,
   "metadata": {
    "collapsed": false
   },
   "outputs": [],
   "source": [
    "max_img_i = 4\n",
    "print 'max img', preds_all[max_img_i], fc[max_img_i]\n",
    "plt.imshow(w1_proj[max_img_i].reshape(15, 15))"
   ]
  },
  {
   "cell_type": "code",
   "execution_count": 92,
   "metadata": {
    "collapsed": false
   },
   "outputs": [
    {
     "data": {
      "text/plain": [
       "<matplotlib.image.AxesImage at 0x7f5217832790>"
      ]
     },
     "execution_count": 92,
     "metadata": {},
     "output_type": "execute_result"
    },
    {
     "data": {
      "image/png": "[encoded data removed]",
      "text/plain": [
       "<matplotlib.figure.Figure at 0x7f52179bd5d0>"
      ]
     },
     "metadata": {},
     "output_type": "display_data"
    }
   ],
   "source": [
    "plt.imshow(w2_proj[max_img_i].reshape(15, 15))"
   ]
  },
  {
   "cell_type": "code",
   "execution_count": 6,
   "metadata": {
    "collapsed": false
   },
   "outputs": [
    {
     "name": "stdout",
     "output_type": "stream",
     "text": [
      "Random Forest Clf train accuracy 0.99346292792, test accuracy 0.960519525202\n"
     ]
    },
    {
     "data": {
      "text/plain": [
       "RandomForestClassifier(bootstrap=True, class_weight=None, criterion='gini',\n",
       "            max_depth=None, max_features='auto', max_leaf_nodes=None,\n",
       "            min_samples_leaf=1, min_samples_split=2,\n",
       "            min_weight_fraction_leaf=0.0, n_estimators=10, n_jobs=1,\n",
       "            oob_score=False, random_state=None, verbose=0,\n",
       "            warm_start=False)"
      ]
     },
     "execution_count": 6,
     "metadata": {},
     "output_type": "execute_result"
    }
   ],
   "source": [
    "#result just for normals\n",
    "PatchesSKLearner.train(RandomForestClassifier, X_normals['tr'], pdl.labels['fc']['tr'], X_normals['t'], \n",
    "      pdl.labels['fc']['t'], \"Random Forest Clf\")"
   ]
  },
  {
   "cell_type": "code",
   "execution_count": 10,
   "metadata": {
    "collapsed": true
   },
   "outputs": [],
   "source": [
    "X_patch = pdl.get_partial_train_data(('patch_ori',))"
   ]
  },
  {
   "cell_type": "code",
   "execution_count": 9,
   "metadata": {
    "collapsed": false
   },
   "outputs": [
    {
     "name": "stdout",
     "output_type": "stream",
     "text": [
      "QDA train accuracy 0.720912896382, test accuracy 0.723894718734\n"
     ]
    },
    {
     "name": "stderr",
     "output_type": "stream",
     "text": [
      "/home/jacky/anaconda2/lib/python2.7/site-packages/sklearn/discriminant_analysis.py:688: UserWarning: Variables are collinear\n",
      "  warnings.warn(\"Variables are collinear\")\n"
     ]
    },
    {
     "data": {
      "text/plain": [
       "QuadraticDiscriminantAnalysis(priors=None, reg_param=0.0,\n",
       "               store_covariances=False, tol=0.0001)"
      ]
     },
     "execution_count": 9,
     "metadata": {},
     "output_type": "execute_result"
    }
   ],
   "source": [
    "PatchesSKLearner.train(QDA, X_patch['tr'], pdl.labels['fc']['tr'], X_patch['t'],\n",
    "      pdl.labels['fc']['t'], \"QDA\")"
   ]
  },
  {
   "cell_type": "code",
   "execution_count": 10,
   "metadata": {
    "collapsed": false
   },
   "outputs": [
    {
     "name": "stdout",
     "output_type": "stream",
     "text": [
      "Random Forest Clf train accuracy 0.986524456678, test accuracy 0.891794254258\n"
     ]
    },
    {
     "data": {
      "text/plain": [
       "RandomForestClassifier(bootstrap=True, class_weight=None, criterion='gini',\n",
       "            max_depth=None, max_features='auto', max_leaf_nodes=None,\n",
       "            min_samples_leaf=1, min_samples_split=2,\n",
       "            min_weight_fraction_leaf=0.0, n_estimators=10, n_jobs=1,\n",
       "            oob_score=False, random_state=None, verbose=0,\n",
       "            warm_start=False)"
      ]
     },
     "execution_count": 10,
     "metadata": {},
     "output_type": "execute_result"
    }
   ],
   "source": [
    "PatchesSKLearner.train(RandomForestClassifier, X_patch['tr'], pdl.labels['fc']['tr'], X_patch['t'],\n",
    "      pdl.labels['fc']['t'], \"Random Forest Clf\")"
   ]
  },
  {
   "cell_type": "code",
   "execution_count": 10,
   "metadata": {
    "collapsed": false
   },
   "outputs": [
    {
     "name": "stdout",
     "output_type": "stream",
     "text": [
      "Random Forest Regressor PFC train accuracy 0.96422615806, test accuracy 0.797982278609\n",
      "Random Forest Regressor PFC train mse 0.00363922183066, test mse 0.0205788539116\n"
     ]
    }
   ],
   "source": [
    "pfc_reg = PatchesSKLearner.train(RandomForestRegressor, pdl.tr, pdl.labels['pfc_10']['tr'], pdl.t, pdl.labels['pfc_10']['t'],\n",
    "      'Random Forest Regressor PFC', print_mse = True)"
   ]
  },
  {
   "cell_type": "code",
   "execution_count": null,
   "metadata": {
    "collapsed": true
   },
   "outputs": [],
   "source": [
    "#cross entropy loss for pfc\n",
    "tr_pfc_preds = pfc_reg.predict(pdl.tr)\n",
    "t_pfc_preds = pfc_reg.predict(pdl.t)\n",
    "tr_pfc_preds_proba = np.c_[1 - tr_pfc_preds, tr_pfc_preds]\n",
    "t_pfc_preds_proba = np.c_[1 - t_pfc_preds, t_pfc_preds]"
   ]
  },
  {
   "cell_type": "code",
   "execution_count": 17,
   "metadata": {
    "collapsed": false
   },
   "outputs": [
    {
     "name": "stdout",
     "output_type": "stream",
     "text": [
      "Random Forest Rergressor PFC train ce 0.20100992797, test ce 0.20100992797\n"
     ]
    }
   ],
   "source": [
    "ce_tr_pfc = log_loss(np.round(pdl.labels['pfc_10']['tr']), tr_pfc_preds_proba)\n",
    "ce_t_pfc = log_loss(np.round(pdl.labels['pfc_10']['t']), t_pfc_preds_proba)\n",
    "print \"Random Forest Rergressor PFC train ce {0}, test ce {0}\".format(ce_tr_pfc, ce_t_pfc)"
   ]
  },
  {
   "cell_type": "code",
   "execution_count": 5,
   "metadata": {
    "collapsed": false
   },
   "outputs": [
    {
     "name": "stdout",
     "output_type": "stream",
     "text": [
      "Random Forest Regressor Ferrari Canny train accuracy 0.849162234482, test accuracy 0.792674878213\n",
      "Random Forest Regressor Ferrari Canny train mse 4.36967714702e-08, test mse 6.0510454147e-08\n"
     ]
    }
   ],
   "source": [
    "ferrari_reg = PatchesSKLearner.train(RandomForestRegressor, pdl.tr, pdl.labels['ferrari']['tr'], pdl.t, pdl.labels['ferrari']['t'],\n",
    "      'Random Forest Regressor Ferrari Canny', print_mse= True)"
   ]
  },
  {
   "cell_type": "code",
   "execution_count": 18,
   "metadata": {
    "collapsed": true
   },
   "outputs": [],
   "source": [
    "#thresholding pfc to classify on fc\n",
    "pfc_rd_tr = np.round(pdl.labels['pfc_10']['tr']).astype('int')\n",
    "pfc_rd_t = np.round(pdl.labels['pfc_10']['t']).astype('int')"
   ]
  },
  {
   "cell_type": "code",
   "execution_count": 20,
   "metadata": {
    "collapsed": false
   },
   "outputs": [
    {
     "name": "stdout",
     "output_type": "stream",
     "text": [
      "Random Forest Clf on Rounded PFC train accuracy 0.995240552784, test accuracy 0.865043867194\n"
     ]
    },
    {
     "data": {
      "text/plain": [
       "RandomForestClassifier(bootstrap=True, class_weight=None, criterion='gini',\n",
       "            max_depth=None, max_features='auto', max_leaf_nodes=None,\n",
       "            min_samples_leaf=1, min_samples_split=2,\n",
       "            min_weight_fraction_leaf=0.0, n_estimators=10, n_jobs=1,\n",
       "            oob_score=False, random_state=None, verbose=0,\n",
       "            warm_start=False)"
      ]
     },
     "execution_count": 20,
     "metadata": {},
     "output_type": "execute_result"
    }
   ],
   "source": [
    "PatchesSKLearner.train(RandomForestClassifier, pdl.tr, pfc_rd_tr, pdl.t,\n",
    "      pfc_rd_t, \"Random Forest Clf on Rounded PFC\")"
   ]
  }
 ],
 "metadata": {
  "kernelspec": {
   "display_name": "Python 2",
   "language": "python",
   "name": "python2"
  },
  "language_info": {
   "codemirror_mode": {
    "name": "ipython",
    "version": 2
   },
   "file_extension": ".py",
   "mimetype": "text/x-python",
   "name": "python",
   "nbconvert_exporter": "python",
   "pygments_lexer": "ipython2",
   "version": "2.7.11"
  }
 },
 "nbformat": 4,
 "nbformat_minor": 0
}
