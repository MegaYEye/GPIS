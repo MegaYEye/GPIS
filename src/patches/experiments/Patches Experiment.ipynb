{
 "cells": [
  {
   "cell_type": "markdown",
   "metadata": {},
   "source": [
    "## Patches Experiment with Dex-Net"
   ]
  },
  {
   "cell_type": "code",
   "execution_count": 226,
   "metadata": {
    "collapsed": false
   },
   "outputs": [],
   "source": [
    "#global imports\n",
    "import numpy as np\n",
    "from sklearn.svm import SVC\n",
    "from sklearn.metrics import zero_one_loss, log_loss\n",
    "from sklearn import linear_model\n",
    "from sklearn.grid_search import GridSearchCV\n",
    "from sklearn.tree import DecisionTreeClassifier, DecisionTreeRegressor\n",
    "from sklearn.ensemble import RandomForestClassifier, RandomForestRegressor, AdaBoostClassifier, AdaBoostRegressor\n",
    "from sklearn.qda import QDA\n",
    "import time\n",
    "import matplotlib.pyplot as plt\n",
    "%matplotlib inline"
   ]
  },
  {
   "cell_type": "code",
   "execution_count": 2,
   "metadata": {
    "collapsed": false
   },
   "outputs": [],
   "source": [
    "from util import PatchesDataLoader, PatchesSKLearner"
   ]
  },
  {
   "cell_type": "code",
   "execution_count": 3,
   "metadata": {
    "collapsed": true
   },
   "outputs": [],
   "source": [
    "#data_path = '/home/jacky/ws/patches/data/'\n",
    "data_path = '/mnt/wd_ssd/projects/deep_patches/data/patches_06_11_16'"
   ]
  },
  {
   "cell_type": "code",
   "execution_count": 83,
   "metadata": {
    "collapsed": false
   },
   "outputs": [],
   "source": [
    "pdl = PatchesDataLoader(0.25, data_path, [i for i in range(1)], by_objs=False)"
   ]
  },
  {
   "cell_type": "code",
   "execution_count": 145,
   "metadata": {
    "collapsed": false
   },
   "outputs": [],
   "source": [
    "def get_cropped_X(pdl, dim):\n",
    "    \n",
    "    def crop(img, dim):\n",
    "        big_dim = int(np.sqrt(img.shape[0]))\n",
    "        img = img.reshape(big_dim, big_dim)\n",
    "        mid = big_dim // 2\n",
    "        delta = dim // 2\n",
    "\n",
    "        small_img = img[mid - delta : mid + delta + 1, mid - delta : mid + delta + 1]\n",
    "\n",
    "        return small_img.reshape(dim*dim)\n",
    "\n",
    "    cropped_w1 = np.array([crop(pdl._raw_data['w1_proj'][i,:], 3) for i in range(len(pdl._raw_data['w1_proj']))])\n",
    "    cropped_w2 = np.array([crop(pdl._raw_data['w2_proj'][i,:], 3) for i in range(len(pdl._raw_data['w2_proj']))])\n",
    "\n",
    "    cropped_w1_tr, cropped_w1_t, _ = pdl.split_train_test(cropped_w1, 0.25, pdl.indices)\n",
    "    cropped_w2_tr, cropped_w2_t, _ = pdl.split_train_test(cropped_w1, 0.25, pdl.indices)\n",
    "\n",
    "    X = pdl.get_partial_train_data(('moment_arms', 'patch_ori'))\n",
    "\n",
    "    X['tr'] = np.c_[X['tr'], cropped_w1_tr, cropped_w2_tr]\n",
    "    X['t'] = np.c_[X['t'], cropped_w1_t, cropped_w2_t]\n",
    "    \n",
    "    return X"
   ]
  },
  {
   "cell_type": "code",
   "execution_count": 146,
   "metadata": {
    "collapsed": false
   },
   "outputs": [],
   "source": [
    "X = get_cropped_X(pdl, 3)"
   ]
  },
  {
   "cell_type": "markdown",
   "metadata": {},
   "source": [
    "### Classification on FC"
   ]
  },
  {
   "cell_type": "code",
   "execution_count": 133,
   "metadata": {
    "collapsed": false
   },
   "outputs": [
    {
     "name": "stdout",
     "output_type": "stream",
     "text": [
      "QDA train accuracy 0.562441752097, test accuracy 0.525874125874\n"
     ]
    }
   ],
   "source": [
    "#QDA on fc\n",
    "qda_fc = PatchesSKLearner.train(QDA, X['tr'], pdl.labels['fc']['tr'], X['t'], pdl.labels['fc']['t'], \"QDA\")"
   ]
  },
  {
   "cell_type": "code",
   "execution_count": 134,
   "metadata": {
    "collapsed": false
   },
   "outputs": [
    {
     "name": "stdout",
     "output_type": "stream",
     "text": [
      "Logistic Regression train accuracy 0.688723205965, test accuracy 0.682517482517\n"
     ]
    }
   ],
   "source": [
    "#logistic regression on fc\n",
    "logr_fc = PatchesSKLearner.train(linear_model.LogisticRegression, X['tr'], pdl.labels['fc']['tr'], X['t'], \n",
    "                       pdl.labels['fc']['t'], \"Logistic Regression\")"
   ]
  },
  {
   "cell_type": "code",
   "execution_count": 235,
   "metadata": {
    "collapsed": false
   },
   "outputs": [
    {
     "name": "stdout",
     "output_type": "stream",
     "text": [
      "Random Forest Clf train accuracy 0.991146318733, test accuracy 0.806993006993\n"
     ]
    }
   ],
   "source": [
    "#random forest\n",
    "rf_fc = PatchesSKLearner.train(RandomForestClassifier, X['tr'], pdl.labels['fc']['tr'], X['t'], \n",
    "                               pdl.labels['fc']['t'], \"Random Forest Clf\")"
   ]
  },
  {
   "cell_type": "code",
   "execution_count": 228,
   "metadata": {
    "collapsed": false
   },
   "outputs": [
    {
     "name": "stdout",
     "output_type": "stream",
     "text": [
      "Random Forest Clf train accuracy 0.843429636533, test accuracy 0.808391608392\n"
     ]
    }
   ],
   "source": [
    "#adaboost\n",
    "ab_fc = PatchesSKLearner.train(AdaBoostClassifier, X['tr'], pdl.labels['fc']['tr'], X['t'], \n",
    "                               pdl.labels['fc']['t'], \"Random Forest Clf\")"
   ]
  },
  {
   "cell_type": "markdown",
   "metadata": {},
   "source": [
    "### Grid Search CV on Classification"
   ]
  },
  {
   "cell_type": "code",
   "execution_count": 231,
   "metadata": {
    "collapsed": false
   },
   "outputs": [],
   "source": [
    "rf_fc_params_grid = [{\n",
    " 'criterion': ['entropy', 'gini'],\n",
    " 'max_depth': [None, 20, 70],\n",
    " 'max_features': ['sqrt', 0.4, 0.7],\n",
    " 'min_samples_leaf': [1, 3, 7],\n",
    " 'min_samples_split': [2, 6, 10],\n",
    " 'n_estimators': [10, 30, 60],\n",
    " 'random_state': [0],\n",
    " 'verbose': [0]\n",
    "}]"
   ]
  },
  {
   "cell_type": "code",
   "execution_count": 232,
   "metadata": {
    "collapsed": false,
    "scrolled": true
   },
   "outputs": [
    {
     "name": "stdout",
     "output_type": "stream",
     "text": [
      "took 1737.7815361s\n"
     ]
    }
   ],
   "source": [
    "rf_fc_cv = GridSearchCV(RandomForestClassifier(), rf_fc_params_grid, cv=3)\n",
    "start = time.time()\n",
    "rf_fc_cv.fit(X['tr'], pdl.labels['fc']['tr'])\n",
    "end = time.time()\n",
    "print 'took {0}s'.format(end - start)"
   ]
  },
  {
   "cell_type": "code",
   "execution_count": 233,
   "metadata": {
    "collapsed": false
   },
   "outputs": [
    {
     "name": "stdout",
     "output_type": "stream",
     "text": [
      "{'verbose': 0, 'min_samples_leaf': 1, 'n_estimators': 60, 'min_samples_split': 6, 'random_state': 0, 'criterion': 'entropy', 'max_features': 'sqrt', 'max_depth': 20}\n",
      "0.825722273998\n"
     ]
    }
   ],
   "source": [
    "print rf_fc_cv.best_params_\n",
    "print rf_fc_cv.best_score_"
   ]
  },
  {
   "cell_type": "markdown",
   "metadata": {},
   "source": [
    "### Analytical fc prediction using approx patch normals"
   ]
  },
  {
   "cell_type": "code",
   "execution_count": 8,
   "metadata": {
    "collapsed": true
   },
   "outputs": [],
   "source": [
    "X_w1_normals = pdl.get_partial_train_data(('w1_normal',))\n",
    "X_w2_normals = pdl.get_partial_train_data(('w2_normal',))"
   ]
  },
  {
   "cell_type": "code",
   "execution_count": 9,
   "metadata": {
    "collapsed": false
   },
   "outputs": [],
   "source": [
    "def predict_single_approx_normals(w1, w2, mu = 0.5):\n",
    "    alpha = np.arctan(mu)\n",
    "    \n",
    "    z1 = w1[2]\n",
    "    z2 = w2[2]\n",
    "    \n",
    "    return np.arccos(-z1) < alpha and np.arccos(-z2) < alpha\n",
    "\n",
    "def predict_approx_normals(W1, W2):\n",
    "    n = W1.shape[0]\n",
    "    results = []\n",
    "    for i in range(n):\n",
    "        results.append(predict_single_approx_normals(W1[i], W2[i]))\n",
    "    return np.array(results)"
   ]
  },
  {
   "cell_type": "code",
   "execution_count": 10,
   "metadata": {
    "collapsed": false
   },
   "outputs": [],
   "source": [
    "approx_normal_tr_preds = predict_approx_normals(X_w1_normals['tr'], X_w2_normals['tr'])\n",
    "approx_normal_t_preds = predict_approx_normals(X_w1_normals['t'], X_w2_normals['t'])\n",
    "\n",
    "print \"train accuracy\", 1 - zero_one_loss(approx_normal_tr_preds, pdl.labels['fc']['tr'], normalize=True)\n",
    "print \"test accuracy\", 1 - zero_one_loss(approx_normal_t_preds, pdl.labels['fc']['t'], normalize=True)"
   ]
  },
  {
   "cell_type": "markdown",
   "metadata": {},
   "source": [
    "### Regressions on PFC"
   ]
  },
  {
   "cell_type": "code",
   "execution_count": 10,
   "metadata": {
    "collapsed": false
   },
   "outputs": [
    {
     "name": "stdout",
     "output_type": "stream",
     "text": [
      "Random Forest Regressor PFC train accuracy 0.96422615806, test accuracy 0.797982278609\n",
      "Random Forest Regressor PFC train mse 0.00363922183066, test mse 0.0205788539116\n"
     ]
    }
   ],
   "source": [
    "#reg on pfc\n",
    "pfc_reg = PatchesSKLearner.train(RandomForestRegressor, pdl.tr, pdl.labels['pfc_10']['tr'], pdl.t, pdl.labels['pfc_10']['t'],\n",
    "      'Random Forest Regressor PFC', print_mse = True)"
   ]
  },
  {
   "cell_type": "code",
   "execution_count": null,
   "metadata": {
    "collapsed": true
   },
   "outputs": [],
   "source": [
    "#cross entropy loss for pfc\n",
    "tr_pfc_preds = pfc_reg.predict(pdl.tr)\n",
    "t_pfc_preds = pfc_reg.predict(pdl.t)\n",
    "tr_pfc_preds_proba = np.c_[1 - tr_pfc_preds, tr_pfc_preds]\n",
    "t_pfc_preds_proba = np.c_[1 - t_pfc_preds, t_pfc_preds]"
   ]
  },
  {
   "cell_type": "code",
   "execution_count": 17,
   "metadata": {
    "collapsed": false
   },
   "outputs": [
    {
     "name": "stdout",
     "output_type": "stream",
     "text": [
      "Random Forest Rergressor PFC train ce 0.20100992797, test ce 0.20100992797\n"
     ]
    }
   ],
   "source": [
    "ce_tr_pfc = log_loss(np.round(pdl.labels['pfc_10']['tr']), tr_pfc_preds_proba)\n",
    "ce_t_pfc = log_loss(np.round(pdl.labels['pfc_10']['t']), t_pfc_preds_proba)\n",
    "print \"Random Forest Rergressor PFC train ce {0}, test ce {0}\".format(ce_tr_pfc, ce_t_pfc)"
   ]
  },
  {
   "cell_type": "markdown",
   "metadata": {},
   "source": [
    "### Regressions on Ferrari Canny"
   ]
  },
  {
   "cell_type": "code",
   "execution_count": 14,
   "metadata": {
    "collapsed": false
   },
   "outputs": [
    {
     "name": "stdout",
     "output_type": "stream",
     "text": [
      "Random Forest Regressor Ferrari Canny train accuracy 0.885257381622, test accuracy 0.322818561687\n",
      "Random Forest Regressor Ferrari Canny train mse 1.06544717913e-08, test mse 5.34191610085e-08\n"
     ]
    }
   ],
   "source": [
    "#reg on ferrari canny\n",
    "ferrari_reg = PatchesSKLearner.train(RandomForestRegressor, pdl.tr, pdl.labels['ferrari']['tr'], pdl.t, pdl.labels['ferrari']['t'],\n",
    "      'Random Forest Regressor Ferrari Canny', print_mse= True)"
   ]
  },
  {
   "cell_type": "markdown",
   "metadata": {},
   "source": [
    "### Regressions on Thresholded PFC"
   ]
  },
  {
   "cell_type": "code",
   "execution_count": 18,
   "metadata": {
    "collapsed": true
   },
   "outputs": [],
   "source": [
    "#thresholding pfc to classify on fc\n",
    "pfc_rd_tr = np.round(pdl.labels['pfc_10']['tr']).astype('int')\n",
    "pfc_rd_t = np.round(pdl.labels['pfc_10']['t']).astype('int')"
   ]
  },
  {
   "cell_type": "code",
   "execution_count": 20,
   "metadata": {
    "collapsed": false
   },
   "outputs": [
    {
     "name": "stdout",
     "output_type": "stream",
     "text": [
      "Random Forest Clf on Rounded PFC train accuracy 0.995240552784, test accuracy 0.865043867194\n"
     ]
    },
    {
     "data": {
      "text/plain": [
       "RandomForestClassifier(bootstrap=True, class_weight=None, criterion='gini',\n",
       "            max_depth=None, max_features='auto', max_leaf_nodes=None,\n",
       "            min_samples_leaf=1, min_samples_split=2,\n",
       "            min_weight_fraction_leaf=0.0, n_estimators=10, n_jobs=1,\n",
       "            oob_score=False, random_state=None, verbose=0,\n",
       "            warm_start=False)"
      ]
     },
     "execution_count": 20,
     "metadata": {},
     "output_type": "execute_result"
    }
   ],
   "source": [
    "PatchesSKLearner.train(RandomForestClassifier, pdl.tr, pfc_rd_tr, pdl.t,\n",
    "      pfc_rd_t, \"Random Forest Clf on Rounded PFC\")"
   ]
  }
 ],
 "metadata": {
  "kernelspec": {
   "display_name": "Python 2",
   "language": "python",
   "name": "python2"
  },
  "language_info": {
   "codemirror_mode": {
    "name": "ipython",
    "version": 2
   },
   "file_extension": ".py",
   "mimetype": "text/x-python",
   "name": "python",
   "nbconvert_exporter": "python",
   "pygments_lexer": "ipython2",
   "version": "2.7.6"
  }
 },
 "nbformat": 4,
 "nbformat_minor": 0
}
