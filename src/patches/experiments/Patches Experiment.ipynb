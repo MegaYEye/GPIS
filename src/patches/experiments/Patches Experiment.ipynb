{
 "cells": [
  {
   "cell_type": "markdown",
   "metadata": {},
   "source": [
    "## Patches Experiment with Dex-Net"
   ]
  },
  {
   "cell_type": "code",
   "execution_count": 1,
   "metadata": {
    "collapsed": false
   },
   "outputs": [
    {
     "name": "stderr",
     "output_type": "stream",
     "text": [
      "/usr/local/lib/python2.7/dist-packages/ipykernel-4.3.1-py2.7.egg/ipykernel/pylab/config.py:66: DeprecationWarning: metadata {'config': True} was set from the constructor.  Metadata should be set using the .tag() method, e.g., Int().tag(key1='value1', key2='value2')\n",
      "  inline backend.\"\"\"\n",
      "/usr/local/lib/python2.7/dist-packages/ipykernel-4.3.1-py2.7.egg/ipykernel/pylab/config.py:71: DeprecationWarning: metadata {'config': True} was set from the constructor.  Metadata should be set using the .tag() method, e.g., Int().tag(key1='value1', key2='value2')\n",
      "  'retina', 'jpeg', 'svg', 'pdf'.\"\"\")\n",
      "/usr/local/lib/python2.7/dist-packages/ipykernel-4.3.1-py2.7.egg/ipykernel/pylab/config.py:85: DeprecationWarning: metadata {'config': True} was set from the constructor.  Metadata should be set using the .tag() method, e.g., Int().tag(key1='value1', key2='value2')\n",
      "  use `figure_formats` instead)\"\"\")\n",
      "/usr/local/lib/python2.7/dist-packages/ipykernel-4.3.1-py2.7.egg/ipykernel/pylab/config.py:95: DeprecationWarning: metadata {'config': True} was set from the constructor.  Metadata should be set using the .tag() method, e.g., Int().tag(key1='value1', key2='value2')\n",
      "  \"\"\"\n",
      "/usr/local/lib/python2.7/dist-packages/ipykernel-4.3.1-py2.7.egg/ipykernel/pylab/config.py:114: DeprecationWarning: metadata {'config': True} was set from the constructor.  Metadata should be set using the .tag() method, e.g., Int().tag(key1='value1', key2='value2')\n",
      "  \"\"\")\n",
      "/usr/local/lib/python2.7/dist-packages/ipykernel-4.3.1-py2.7.egg/ipykernel/pylab/config.py:44: DeprecationWarning: InlineBackend._config_changed is deprecated: use @observe and @unobserve instead.\n",
      "  def _config_changed(self, name, old, new):\n",
      "/usr/local/lib/python2.7/dist-packages/traitlets/traitlets.py:770: DeprecationWarning: A parent of InlineBackend._config_changed has adopted the new @observe(change) API\n",
      "  clsname, change_or_name), DeprecationWarning)\n"
     ]
    }
   ],
   "source": [
    "#global imports\n",
    "import numpy as np\n",
    "from sklearn.svm import SVC\n",
    "from sklearn.metrics import zero_one_loss, log_loss\n",
    "from sklearn import linear_model\n",
    "from sklearn.tree import DecisionTreeClassifier, DecisionTreeRegressor\n",
    "from sklearn.ensemble import RandomForestClassifier, RandomForestRegressor\n",
    "from sklearn.qda import QDA\n",
    "import matplotlib.pyplot as plt\n",
    "%matplotlib inline"
   ]
  },
  {
   "cell_type": "code",
   "execution_count": 2,
   "metadata": {
    "collapsed": false
   },
   "outputs": [],
   "source": [
    "from util import PatchesDataLoader, PatchesSKLearner"
   ]
  },
  {
   "cell_type": "code",
   "execution_count": 3,
   "metadata": {
    "collapsed": true
   },
   "outputs": [],
   "source": [
    "#data_path = '/home/jacky/ws/patches/data/'\n",
    "data_path = '/mnt/wd_ssd/projects/deep_patches/data/patches_06_11_16'"
   ]
  },
  {
   "cell_type": "code",
   "execution_count": 4,
   "metadata": {
    "collapsed": false
   },
   "outputs": [],
   "source": [
    "pdl = PatchesDataLoader(0.25, data_path, [i for i in range(1)])"
   ]
  },
  {
   "cell_type": "code",
   "execution_count": 5,
   "metadata": {
    "collapsed": false
   },
   "outputs": [
    {
     "name": "stderr",
     "output_type": "stream",
     "text": [
      "/home/jmahler/.local/lib/python2.7/site-packages/sklearn/qda.py:125: UserWarning: Variables are collinear\n",
      "  warnings.warn(\"Variables are collinear\")\n"
     ]
    },
    {
     "name": "stdout",
     "output_type": "stream",
     "text": [
      "QDA train accuracy 0.825375170532, test accuracy 0.581570996979\n"
     ]
    },
    {
     "data": {
      "text/plain": [
       "QDA(priors=None, reg_param=0.0)"
      ]
     },
     "execution_count": 5,
     "metadata": {},
     "output_type": "execute_result"
    }
   ],
   "source": [
    "#QDA on fc\n",
    "PatchesSKLearner.train(QDA, pdl.tr, pdl.labels['fc']['tr'], pdl.t, pdl.labels['fc']['t'], \"QDA\")"
   ]
  },
  {
   "cell_type": "code",
   "execution_count": 6,
   "metadata": {
    "collapsed": false
   },
   "outputs": [
    {
     "name": "stdout",
     "output_type": "stream",
     "text": [
      "Logistic Regression train accuracy 0.722601182356, test accuracy 0.598187311178\n"
     ]
    },
    {
     "data": {
      "text/plain": [
       "LogisticRegression(C=1.0, class_weight=None, dual=False, fit_intercept=True,\n",
       "          intercept_scaling=1, penalty='l2', random_state=None, tol=0.0001)"
      ]
     },
     "execution_count": 6,
     "metadata": {},
     "output_type": "execute_result"
    }
   ],
   "source": [
    "#logistic regression on fc\n",
    "PatchesSKLearner.train(linear_model.LogisticRegression, pdl.tr, pdl.labels['fc']['tr'], pdl.t, \n",
    "                       pdl.labels['fc']['t'], \"Logistic Regression\")"
   ]
  },
  {
   "cell_type": "code",
   "execution_count": 7,
   "metadata": {
    "collapsed": false
   },
   "outputs": [
    {
     "name": "stdout",
     "output_type": "stream",
     "text": [
      "Random Forest Clf train accuracy 0.991359708959, test accuracy 0.811178247734\n"
     ]
    },
    {
     "data": {
      "text/plain": [
       "RandomForestClassifier(bootstrap=True, compute_importances=None,\n",
       "            criterion='gini', max_depth=None, max_features='auto',\n",
       "            min_density=None, min_samples_leaf=1, min_samples_split=2,\n",
       "            n_estimators=10, n_jobs=1, oob_score=False, random_state=None,\n",
       "            verbose=0)"
      ]
     },
     "execution_count": 7,
     "metadata": {},
     "output_type": "execute_result"
    }
   ],
   "source": [
    "PatchesSKLearner.train(RandomForestClassifier, pdl.tr, pdl.labels['fc']['tr'], pdl.t, pdl.labels['fc']['t'], \"Random Forest Clf\")"
   ]
  },
  {
   "cell_type": "code",
   "execution_count": 8,
   "metadata": {
    "collapsed": true
   },
   "outputs": [],
   "source": [
    "#analytical fc prediction using approx patch normals\n",
    "X_w1_normals = pdl.get_partial_train_data(('w1_normal',))\n",
    "X_w2_normals = pdl.get_partial_train_data(('w2_normal',))"
   ]
  },
  {
   "cell_type": "code",
   "execution_count": 9,
   "metadata": {
    "collapsed": false
   },
   "outputs": [],
   "source": [
    "def predict_single_approx_normals(w1, w2, mu = 0.5):\n",
    "    alpha = np.arctan(mu)\n",
    "    \n",
    "    z1 = w1[2]\n",
    "    z2 = w2[2]\n",
    "    \n",
    "    return np.arccos(-z1) < alpha and np.arccos(-z2) < alpha\n",
    "\n",
    "def predict_approx_normals(W1, W2):\n",
    "    n = W1.shape[0]\n",
    "    results = []\n",
    "    for i in range(n):\n",
    "        results.append(predict_single_approx_normals(W1[i], W2[i]))\n",
    "    return np.array(results)"
   ]
  },
  {
   "cell_type": "code",
   "execution_count": 10,
   "metadata": {
    "collapsed": false
   },
   "outputs": [],
   "source": [
    "approx_normal_tr_preds = predict_approx_normals(X_w1_normals['tr'], X_w2_normals['tr'])\n",
    "approx_normal_t_preds = predict_approx_normals(X_w1_normals['t'], X_w2_normals['t'])"
   ]
  },
  {
   "cell_type": "code",
   "execution_count": 13,
   "metadata": {
    "collapsed": false
   },
   "outputs": [
    {
     "name": "stdout",
     "output_type": "stream",
     "text": [
      "[False False False False False False False False False False]\n"
     ]
    }
   ],
   "source": [
    "print approx_normal_t_preds[:10]"
   ]
  },
  {
   "cell_type": "code",
   "execution_count": 11,
   "metadata": {
    "collapsed": false
   },
   "outputs": [
    {
     "name": "stdout",
     "output_type": "stream",
     "text": [
      "train loss 0.387903592542\n",
      "test loss 0.359516616314\n"
     ]
    }
   ],
   "source": [
    "print \"train loss\", zero_one_loss(approx_normal_tr_preds, pdl.labels['fc']['tr'], normalize=True)\n",
    "print \"test loss\", zero_one_loss(approx_normal_t_preds, pdl.labels['fc']['t'], normalize=True)"
   ]
  },
  {
   "cell_type": "code",
   "execution_count": 10,
   "metadata": {
    "collapsed": false
   },
   "outputs": [
    {
     "name": "stdout",
     "output_type": "stream",
     "text": [
      "Random Forest Regressor PFC train accuracy 0.96422615806, test accuracy 0.797982278609\n",
      "Random Forest Regressor PFC train mse 0.00363922183066, test mse 0.0205788539116\n"
     ]
    }
   ],
   "source": [
    "#reg on pfc\n",
    "pfc_reg = PatchesSKLearner.train(RandomForestRegressor, pdl.tr, pdl.labels['pfc_10']['tr'], pdl.t, pdl.labels['pfc_10']['t'],\n",
    "      'Random Forest Regressor PFC', print_mse = True)"
   ]
  },
  {
   "cell_type": "code",
   "execution_count": null,
   "metadata": {
    "collapsed": true
   },
   "outputs": [],
   "source": [
    "#cross entropy loss for pfc\n",
    "tr_pfc_preds = pfc_reg.predict(pdl.tr)\n",
    "t_pfc_preds = pfc_reg.predict(pdl.t)\n",
    "tr_pfc_preds_proba = np.c_[1 - tr_pfc_preds, tr_pfc_preds]\n",
    "t_pfc_preds_proba = np.c_[1 - t_pfc_preds, t_pfc_preds]"
   ]
  },
  {
   "cell_type": "code",
   "execution_count": 17,
   "metadata": {
    "collapsed": false
   },
   "outputs": [
    {
     "name": "stdout",
     "output_type": "stream",
     "text": [
      "Random Forest Rergressor PFC train ce 0.20100992797, test ce 0.20100992797\n"
     ]
    }
   ],
   "source": [
    "ce_tr_pfc = log_loss(np.round(pdl.labels['pfc_10']['tr']), tr_pfc_preds_proba)\n",
    "ce_t_pfc = log_loss(np.round(pdl.labels['pfc_10']['t']), t_pfc_preds_proba)\n",
    "print \"Random Forest Rergressor PFC train ce {0}, test ce {0}\".format(ce_tr_pfc, ce_t_pfc)"
   ]
  },
  {
   "cell_type": "code",
   "execution_count": 14,
   "metadata": {
    "collapsed": false
   },
   "outputs": [
    {
     "name": "stdout",
     "output_type": "stream",
     "text": [
      "Random Forest Regressor Ferrari Canny train accuracy 0.885257381622, test accuracy 0.322818561687\n",
      "Random Forest Regressor Ferrari Canny train mse 1.06544717913e-08, test mse 5.34191610085e-08\n"
     ]
    }
   ],
   "source": [
    "#reg on ferrari canny\n",
    "ferrari_reg = PatchesSKLearner.train(RandomForestRegressor, pdl.tr, pdl.labels['ferrari']['tr'], pdl.t, pdl.labels['ferrari']['t'],\n",
    "      'Random Forest Regressor Ferrari Canny', print_mse= True)"
   ]
  },
  {
   "cell_type": "code",
   "execution_count": 18,
   "metadata": {
    "collapsed": true
   },
   "outputs": [],
   "source": [
    "#thresholding pfc to classify on fc\n",
    "pfc_rd_tr = np.round(pdl.labels['pfc_10']['tr']).astype('int')\n",
    "pfc_rd_t = np.round(pdl.labels['pfc_10']['t']).astype('int')"
   ]
  },
  {
   "cell_type": "code",
   "execution_count": 20,
   "metadata": {
    "collapsed": false
   },
   "outputs": [
    {
     "name": "stdout",
     "output_type": "stream",
     "text": [
      "Random Forest Clf on Rounded PFC train accuracy 0.995240552784, test accuracy 0.865043867194\n"
     ]
    },
    {
     "data": {
      "text/plain": [
       "RandomForestClassifier(bootstrap=True, class_weight=None, criterion='gini',\n",
       "            max_depth=None, max_features='auto', max_leaf_nodes=None,\n",
       "            min_samples_leaf=1, min_samples_split=2,\n",
       "            min_weight_fraction_leaf=0.0, n_estimators=10, n_jobs=1,\n",
       "            oob_score=False, random_state=None, verbose=0,\n",
       "            warm_start=False)"
      ]
     },
     "execution_count": 20,
     "metadata": {},
     "output_type": "execute_result"
    }
   ],
   "source": [
    "PatchesSKLearner.train(RandomForestClassifier, pdl.tr, pfc_rd_tr, pdl.t,\n",
    "      pfc_rd_t, \"Random Forest Clf on Rounded PFC\")"
   ]
  }
 ],
 "metadata": {
  "kernelspec": {
   "display_name": "Python 2",
   "language": "python",
   "name": "python2"
  },
  "language_info": {
   "codemirror_mode": {
    "name": "ipython",
    "version": 2
   },
   "file_extension": ".py",
   "mimetype": "text/x-python",
   "name": "python",
   "nbconvert_exporter": "python",
   "pygments_lexer": "ipython2",
   "version": "2.7.6"
  }
 },
 "nbformat": 4,
 "nbformat_minor": 0
}
